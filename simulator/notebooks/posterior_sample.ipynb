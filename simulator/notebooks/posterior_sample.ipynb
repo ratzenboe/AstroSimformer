{
 "cells": [
  {
   "cell_type": "code",
   "id": "initial_id",
   "metadata": {
    "collapsed": true,
    "ExecuteTime": {
     "end_time": "2024-05-11T21:21:04.173383Z",
     "start_time": "2024-05-11T21:21:04.171005Z"
    }
   },
   "source": [
    "import numpy as np\n",
    "import pandas as pd\n",
    "import matplotlib.pyplot as plt\n",
    "import pickle\n",
    "import torch\n",
    "from tqdm import tqdm"
   ],
   "outputs": [],
   "execution_count": 4
  },
  {
   "metadata": {},
   "cell_type": "markdown",
   "source": "# Load the posterior",
   "id": "a0152e0ff7cff89e"
  },
  {
   "metadata": {
    "ExecuteTime": {
     "end_time": "2024-05-11T21:21:14.572983Z",
     "start_time": "2024-05-11T21:21:14.561985Z"
    }
   },
   "cell_type": "code",
   "source": [
    "# Save model\n",
    "features_str = '200clExp_Sagitta_NEW_noAVfeh_pred'\n",
    "fin_folder = '/Users/ratzenboe/Documents/work/code/notebooks/SBI/trained_models/'\n",
    "fout_folder = '/Users/ratzenboe/Documents/work/code/notebooks/SBI/posterior_samples_validation/'\n",
    "\n",
    "with open(fin_folder + f\"posterior_{features_str}.pkl\", \"rb\") as handle:\n",
    "    posterior = pickle.load(handle)\n",
    "    \n",
    "with open(fin_folder + f\"scale_factors_{features_str}.pkl\", \"rb\") as handle:\n",
    "    scale_factors = pickle.load(handle)\n",
    "\n",
    "with open(fin_folder + f'features_{features_str}.pkl', 'rb') as handle:\n",
    "    features_X_y = pickle.load(handle)"
   ],
   "id": "caaa10706d66396b",
   "outputs": [],
   "execution_count": 5
  },
  {
   "metadata": {
    "ExecuteTime": {
     "end_time": "2024-05-11T21:25:24.780783Z",
     "start_time": "2024-05-11T21:25:24.778942Z"
    }
   },
   "cell_type": "code",
   "source": "# features_X_y",
   "id": "4e835393b0f034fe",
   "outputs": [],
   "execution_count": 33
  },
  {
   "metadata": {},
   "cell_type": "markdown",
   "source": "# Load the data",
   "id": "2408511c9028be1a"
  },
  {
   "metadata": {
    "ExecuteTime": {
     "end_time": "2024-05-11T21:40:48.911740Z",
     "start_time": "2024-05-11T21:40:48.900722Z"
    }
   },
   "cell_type": "code",
   "source": [
    "fpath_data = '/Users/ratzenboe/Library/CloudStorage/Dropbox/work/data/mock_edr3/mock_cluster_500pc_3Myr.csv'\n",
    "# fpath_data = '/Users/ratzenboe/Library/CloudStorage/Dropbox/work/data/mock_edr3/test_set_sagitta_noAVfeh_pred.csv'\n",
    "df = pd.read_csv(fpath_data)\n",
    "df.rename(columns={'logAge_true': 'logAge'}, inplace=True)\n",
    "\n",
    "has_all_feats = df[features_X_y['X']].isna().sum(axis=1)==0\n",
    "df['used_for_test'] = has_all_feats\n",
    "df['id'] = -1\n",
    "df.loc[has_all_feats, 'id'] = np.arange(np.sum(has_all_feats))"
   ],
   "id": "a1aac4523c0120d1",
   "outputs": [],
   "execution_count": 107
  },
  {
   "metadata": {
    "ExecuteTime": {
     "end_time": "2024-05-11T22:00:36.393244Z",
     "start_time": "2024-05-11T22:00:36.349435Z"
    }
   },
   "cell_type": "code",
   "source": "df.to_csv('/Users/ratzenboe/Library/CloudStorage/Dropbox/work/data/mock_edr3/mock_cluster_500pc_3Myr_May2024.csv', index=False)",
   "id": "2ef7524a2826ba40",
   "outputs": [],
   "execution_count": 137
  },
  {
   "metadata": {
    "ExecuteTime": {
     "end_time": "2024-05-11T21:40:52.910831Z",
     "start_time": "2024-05-11T21:40:52.907249Z"
    }
   },
   "cell_type": "code",
   "source": "df_test = df.loc[has_all_feats]",
   "id": "4771ce167e686a71",
   "outputs": [],
   "execution_count": 108
  },
  {
   "metadata": {
    "ExecuteTime": {
     "end_time": "2024-05-12T09:18:50.756044Z",
     "start_time": "2024-05-12T09:18:50.753562Z"
    }
   },
   "cell_type": "code",
   "source": "df_test.columns",
   "id": "f9725e129a903c2",
   "outputs": [
    {
     "data": {
      "text/plain": [
       "Index(['ra_obs', 'dec_obs', 'parallax_obs', 'pmra_obs', 'pmdec_obs',\n",
       "       'radial_velocity_obs', 'phot_g_mean_mag_obs', 'phot_bp_mean_mag_obs',\n",
       "       'phot_rp_mean_mag_obs', 'j_obs', 'h_obs', 'k_obs', 'w1_obs', 'w2_obs',\n",
       "       'w3_obs', 'w4_obs', 'irac1_obs', 'irac2_obs', 'irac3_obs', 'irac4_obs',\n",
       "       'mips1_obs', 'M_G', 'X_obs', 'Y_obs', 'Z_obs', 'U', 'V', 'W',\n",
       "       'ra_error', 'dec_error', 'parallax_error', 'pmra_error', 'pmdec_error',\n",
       "       'radial_velocity_error', 'phot_g_mean_mag_error',\n",
       "       'phot_bp_mean_mag_error', 'phot_rp_mean_mag_error', 'j_error',\n",
       "       'h_error', 'k_error', 'w1_error', 'w2_error', 'w3_error', 'w4_error',\n",
       "       'irac1_error', 'irac2_error', 'irac3_error', 'irac4_error',\n",
       "       'mips1_error', 'parallax_true', 'mass_true', 'is_binary_true', 'X_true',\n",
       "       'Y_true', 'Z_true', 'logAge', 'feh_true', 'A_V_true', 'A_V_obs',\n",
       "       'used_for_test', 'id'],\n",
       "      dtype='object')"
      ]
     },
     "execution_count": 149,
     "metadata": {},
     "output_type": "execute_result"
    }
   ],
   "execution_count": 149
  },
  {
   "metadata": {
    "ExecuteTime": {
     "end_time": "2024-05-11T21:40:53.275943Z",
     "start_time": "2024-05-11T21:40:53.273304Z"
    }
   },
   "cell_type": "code",
   "source": [
    "x_orig = torch.tensor(df_test[features_X_y['X']].values.astype(np.float32))\n",
    "theta_orig = torch.tensor(df_test[features_X_y['y']].values.astype(np.float32))"
   ],
   "id": "5bba0eb9023b4110",
   "outputs": [],
   "execution_count": 109
  },
  {
   "metadata": {
    "ExecuteTime": {
     "end_time": "2024-05-11T21:40:53.650282Z",
     "start_time": "2024-05-11T21:40:53.648200Z"
    }
   },
   "cell_type": "code",
   "source": [
    "# Scale the data\n",
    "x_samples = (x_orig - scale_factors['x_mean']) / scale_factors['x_std']\n",
    "theta_samples = (theta_orig - scale_factors['theta_mean']) / scale_factors['theta_std']"
   ],
   "id": "75e31c149ea256d1",
   "outputs": [],
   "execution_count": 110
  },
  {
   "metadata": {
    "ExecuteTime": {
     "end_time": "2024-05-11T21:41:07.783169Z",
     "start_time": "2024-05-11T21:41:07.780032Z"
    }
   },
   "cell_type": "code",
   "source": [
    "val_fraction = 1\n",
    "n_samples_val = int(val_fraction * x_samples.shape[0])\n",
    "idx_subset = np.arange(x_samples.shape[0])\n",
    "# np.random.shuffle(idx_subset)\n",
    "idx_subset = idx_subset  #[:n_samples_val]"
   ],
   "id": "b448f65816b084b7",
   "outputs": [],
   "execution_count": 111
  },
  {
   "metadata": {
    "ExecuteTime": {
     "end_time": "2024-05-11T21:42:01.691752Z",
     "start_time": "2024-05-11T21:41:56.865712Z"
    }
   },
   "cell_type": "code",
   "source": [
    "post_info = {}\n",
    "\n",
    "i = 0\n",
    "for idx_i in tqdm(idx_subset):\n",
    "    posterior_samples = posterior.sample((1_000,), x=x_samples[idx_i], show_progress_bars=False)\n",
    "    # plx_post, logAge_post, A_V_post, feh_post = (\n",
    "    plx_post, logAge_post = (\n",
    "            posterior_samples * scale_factors['theta_std'] + scale_factors['theta_mean']).numpy().T\n",
    "    # plx_true, logAge_true, A_V_true, feh_true = (\n",
    "    plx_true, logAge_true = (\n",
    "            theta_samples[idx_i] * scale_factors['theta_std'] + scale_factors['theta_mean']).numpy().T\n",
    "\n",
    "    post_info[idx_i] = {\n",
    "        'post_samples': posterior_samples * scale_factors['theta_std'] + scale_factors['theta_mean'],\n",
    "        'true': theta_samples[idx_i] * scale_factors['theta_std'] + scale_factors['theta_mean'],\n",
    "        'plx_post': plx_post,\n",
    "        'plx_true': plx_true,\n",
    "        'logAge_post': logAge_post,\n",
    "        'logAge_true': logAge_true,\n",
    "        # 'A_V_post': A_V_post,\n",
    "        # 'A_V_true': A_V_true,\n",
    "        # 'feh_post': feh_post,\n",
    "        # 'feh_true': feh_true\n",
    "    }\n",
    "    i+=1"
   ],
   "id": "a662f583bc113367",
   "outputs": [
    {
     "name": "stderr",
     "output_type": "stream",
     "text": [
      "100%|██████████| 572/572 [00:04<00:00, 118.70it/s]\n"
     ]
    }
   ],
   "execution_count": 113
  },
  {
   "metadata": {
    "ExecuteTime": {
     "end_time": "2024-05-11T21:32:12.922119Z",
     "start_time": "2024-05-11T21:32:12.917738Z"
    }
   },
   "cell_type": "code",
   "source": "# post_info['validation_set'] = df.loc[idx_subset]",
   "id": "ca86dbebe86a7ec7",
   "outputs": [],
   "execution_count": 70
  },
  {
   "metadata": {
    "ExecuteTime": {
     "end_time": "2024-05-11T22:02:16.165047Z",
     "start_time": "2024-05-11T22:02:16.162776Z"
    }
   },
   "cell_type": "code",
   "source": "fout_folder",
   "id": "2ba9df24fb4bf913",
   "outputs": [
    {
     "data": {
      "text/plain": [
       "'/Users/ratzenboe/Documents/work/code/notebooks/SBI/posterior_samples_validation/'"
      ]
     },
     "execution_count": 138,
     "metadata": {},
     "output_type": "execute_result"
    }
   ],
   "execution_count": 138
  },
  {
   "metadata": {
    "ExecuteTime": {
     "end_time": "2024-05-11T22:04:13.969050Z",
     "start_time": "2024-05-11T22:04:13.926451Z"
    }
   },
   "cell_type": "code",
   "source": [
    "with open(fout_folder + f\"{features_str}_unseen_clusters.pkl\", \"wb\") as handle:\n",
    "    pickle.dump(post_info, handle, protocol=pickle.HIGHEST_PROTOCOL)"
   ],
   "id": "6c810f6b13f51e05",
   "outputs": [],
   "execution_count": 140
  },
  {
   "metadata": {
    "ExecuteTime": {
     "end_time": "2024-05-11T22:04:14.357348Z",
     "start_time": "2024-05-11T22:04:14.354961Z"
    }
   },
   "cell_type": "code",
   "source": "fout_folder + f\"{features_str}_unseen_cluster_500pc_3Myr.pkl\"",
   "id": "eaf3ded219c0aa9",
   "outputs": [
    {
     "data": {
      "text/plain": [
       "'/Users/ratzenboe/Documents/work/code/notebooks/SBI/posterior_samples_validation/200clExp_Sagitta_NEW_noAVfeh_pred_unseen_cluster_500pc_3Myr.pkl'"
      ]
     },
     "execution_count": 141,
     "metadata": {},
     "output_type": "execute_result"
    }
   ],
   "execution_count": 141
  },
  {
   "metadata": {},
   "cell_type": "markdown",
   "source": "# Quick results plot",
   "id": "70da1ded337412c3"
  },
  {
   "metadata": {
    "ExecuteTime": {
     "end_time": "2024-05-11T21:42:16.459087Z",
     "start_time": "2024-05-11T21:42:16.455850Z"
    }
   },
   "cell_type": "code",
   "source": [
    "def mode_reals(array, bins=150):\n",
    "    counts, bin_edges = np.histogram(array, bins=bins)\n",
    "    # Take left edges as approximation for bin midpoint\n",
    "    bins_left_edges = bin_edges[:-1]\n",
    "    return bins_left_edges[np.argmax(counts)]"
   ],
   "id": "92923cbbd69db070",
   "outputs": [],
   "execution_count": 116
  },
  {
   "metadata": {
    "ExecuteTime": {
     "end_time": "2024-05-12T09:10:42.288294Z",
     "start_time": "2024-05-12T09:10:42.277844Z"
    }
   },
   "cell_type": "code",
   "source": [
    "f_summary = np.mean\n",
    "\n",
    "dist_pred = np.array([f_summary(1000/post_info[i]['plx_post']) for i in df.loc[has_all_feats].id.values])\n",
    "dist_true = np.array([1000/post_info[i]['plx_true'] for i in df.loc[has_all_feats].id.values])\n",
    "dist_obs = 1000/df_test['parallax_obs'].values\n",
    "\n",
    "logAge_pred = np.array([f_summary(post_info[i]['logAge_post']) for i in df.loc[has_all_feats].id.values])\n",
    "logAge_true = np.array([post_info[i]['logAge_true'] for i in df.loc[has_all_feats].id.values])\n",
    "\n",
    "# feh_pred = np.array([f_summary(post_info[i]['feh_post']) for i in np.arange(max_int)])\n",
    "# A_V_pred = np.array([f_summary(post_info[i]['A_V_post']) for i in np.arange(max_int)])"
   ],
   "id": "115a13e1b2e1d2c2",
   "outputs": [],
   "execution_count": 147
  },
  {
   "metadata": {
    "ExecuteTime": {
     "end_time": "2024-05-12T09:10:42.846391Z",
     "start_time": "2024-05-12T09:10:42.564508Z"
    }
   },
   "cell_type": "code",
   "source": [
    "# plt.scatter(logAge_true, logAge_pred, s=1, alpha=1, c=df_test.is_binary_true) #, c=df_val.labels==21)\n",
    "# plt.xlabel('True logAge')\n",
    "# plt.ylabel('Predicted logAge')\n",
    "# min_age, max_age = 4, 10.5\n",
    "# plt.plot([min_age, max_age], [min_age, max_age], color='k')\n",
    "# plt.xlim(min_age, max_age)\n",
    "# plt.ylim(min_age, max_age)\n",
    "# plt.show()\n",
    "\n",
    "plt.hist(logAge_true - logAge_pred, bins=np.linspace(-1, 1, 100))\n",
    "plt.xlabel('True - predicted logAge')\n",
    "# plt.ylabel('Predicted logAge')\n",
    "plt.show()"
   ],
   "id": "74aa7fcd66bc27c3",
   "outputs": [
    {
     "data": {
      "text/plain": [
       "<Figure size 640x480 with 1 Axes>"
      ],
      "image/png": "[encoded data removed]"
     },
     "metadata": {},
     "output_type": "display_data"
    }
   ],
   "execution_count": 148
  },
  {
   "metadata": {
    "ExecuteTime": {
     "end_time": "2024-05-11T21:50:13.988409Z",
     "start_time": "2024-05-11T21:50:13.927837Z"
    }
   },
   "cell_type": "code",
   "source": [
    "plt.scatter(dist_true, dist_pred, s=5, alpha=0.1) #, c=df_val.labels==21)\n",
    "plt.plot([650, 800], [650, 800], color='k')"
   ],
   "id": "78a4ce0edad314f4",
   "outputs": [
    {
     "data": {
      "text/plain": [
       "[<matplotlib.lines.Line2D at 0x3777458d0>]"
      ]
     },
     "execution_count": 135,
     "metadata": {},
     "output_type": "execute_result"
    },
    {
     "data": {
      "text/plain": [
       "<Figure size 640x480 with 1 Axes>"
      ],
      "image/png": "[encoded data removed]"
     },
     "metadata": {},
     "output_type": "display_data"
    }
   ],
   "execution_count": 135
  },
  {
   "metadata": {
    "ExecuteTime": {
     "end_time": "2024-05-10T13:18:52.748825Z",
     "start_time": "2024-05-10T13:18:52.747245Z"
    }
   },
   "cell_type": "code",
   "source": [
    "# plt.scatter(df_val.feh, feh_pred, s=5, alpha=0.1)\n",
    "# plt.xlim(-1, 0.5)\n",
    "# plt.ylim(-1, 0.5)\n",
    "# plt.plot([-1, 0.5], [-1, 0.5], color='k')"
   ],
   "id": "d041f75cc874ac31",
   "execution_count": 82,
   "outputs": []
  },
  {
   "metadata": {
    "ExecuteTime": {
     "end_time": "2024-05-10T13:18:55.086476Z",
     "start_time": "2024-05-10T13:18:55.083960Z"
    }
   },
   "cell_type": "code",
   "source": [
    "# plt.scatter(df_val.A_V, A_V_pred, s=5, alpha=0.1)\n",
    "# plt.xlim(-0.1, 4)\n",
    "# plt.ylim(-0.1, 4)\n",
    "# plt.plot([-0.1, 4], [-0.1, 4], color='k')"
   ],
   "id": "53f92d4bb2643aac",
   "execution_count": 83,
   "outputs": []
  },
  {
   "metadata": {
    "ExecuteTime": {
     "end_time": "2024-05-10T13:18:56.943130Z",
     "start_time": "2024-05-10T13:18:56.941470Z"
    }
   },
   "cell_type": "code",
   "source": "# plt.hist(df_val.A_V - A_V_pred, bins=100, range=(-0.3, 0.3), log=True)",
   "id": "6232638b15a04e6b",
   "execution_count": 84,
   "outputs": []
  },
  {
   "metadata": {},
   "cell_type": "code",
   "execution_count": null,
   "source": "",
   "id": "c1d21dec33d7afc2",
   "outputs": []
  }
 ],
 "metadata": {
  "kernelspec": {
   "display_name": "Python 3",
   "language": "python",
   "name": "python3"
  },
  "language_info": {
   "codemirror_mode": {
    "name": "ipython",
    "version": 2
   },
   "file_extension": ".py",
   "mimetype": "text/x-python",
   "name": "python",
   "nbconvert_exporter": "python",
   "pygments_lexer": "ipython2",
   "version": "2.7.6"
  }
 },
 "nbformat": 4,
 "nbformat_minor": 5
}
