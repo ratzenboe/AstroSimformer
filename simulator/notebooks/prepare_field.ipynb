{
 "cells": [
  {
   "cell_type": "code",
   "id": "initial_id",
   "metadata": {
    "collapsed": true,
    "ExecuteTime": {
     "end_time": "2024-05-14T09:51:52.127130Z",
     "start_time": "2024-05-14T09:51:51.040388Z"
    }
   },
   "source": [
    "import numpy as np\n",
    "import pandas as pd\n",
    "import matplotlib.pyplot as plt\n",
    "from astropy.coordinates import SkyCoord, Distance\n",
    "from astropy import units as u\n",
    "from modules.ClusterPhotometry import ClusterPhotometry\n",
    "from modules.extinction_correction import ExtinctionCorrection, gaia_extinction\n",
    "from modules.PhotoUncertainty import IRPhotoUncertainty\n",
    "from pygaia.errors.astrometric import parallax_uncertainty"
   ],
   "execution_count": 1,
   "outputs": []
  },
  {
   "metadata": {
    "ExecuteTime": {
     "end_time": "2024-05-14T09:51:53.138804Z",
     "start_time": "2024-05-14T09:51:53.136561Z"
    }
   },
   "cell_type": "code",
   "source": [
    "# ------ Path files ------\n",
    "fpath = '/Users/ratzenboe/Documents/work/code/notebooks/SBI/'\n",
    "ir_files = fpath + 'isochrone_files/ir_phot/'\n",
    "gaia_files = fpath + 'isochrone_files/gaia_phot/'\n",
    "fname_spline_csv = fpath + 'LogErrVsMagSpline.csv'\n",
    "fname_astrometric_corr = fpath + 'astrometric_corr.npz'\n",
    "# ------------------------"
   ],
   "id": "e2517098f389ada8",
   "execution_count": 2,
   "outputs": []
  },
  {
   "metadata": {},
   "cell_type": "markdown",
   "source": "# Load Data",
   "id": "52a0fdb1d21c8e9f"
  },
  {
   "metadata": {
    "ExecuteTime": {
     "end_time": "2024-05-14T09:51:54.914387Z",
     "start_time": "2024-05-14T09:51:53.871218Z"
    }
   },
   "cell_type": "code",
   "source": [
    "# fname_data = '/Users/ratzenboe/Library/CloudStorage/Dropbox/work/data/mock_edr3/cone_search_5deg_8M.csv'\n",
    "# fname_data = '/Users/ratzenboe/Library/CloudStorage/Dropbox/work/data/mock_edr3/edr3_mock_300pc_sphere_May2024.csv'\n",
    "fname_data = '/Users/ratzenboe/Library/CloudStorage/Dropbox/work/data/mock_edr3/edr3_mock_1kpc_Zlim_sphere_May2024_latest.csv'\n",
    "df_mock = pd.read_csv(fname_data)"
   ],
   "id": "14c216a122884c54",
   "execution_count": 3,
   "outputs": []
  },
  {
   "metadata": {
    "ExecuteTime": {
     "end_time": "2024-05-14T10:00:33.249500Z",
     "start_time": "2024-05-14T10:00:33.247332Z"
    }
   },
   "cell_type": "code",
   "source": "df_mock.shape",
   "id": "2727ce26770ab3f5",
   "execution_count": 13,
   "outputs": []
  },
  {
   "metadata": {},
   "cell_type": "markdown",
   "source": "",
   "id": "aaebb9ab616c42b4"
  },
  {
   "metadata": {
    "ExecuteTime": {
     "end_time": "2024-05-14T09:52:55.920066Z",
     "start_time": "2024-05-14T09:52:55.917117Z"
    }
   },
   "cell_type": "code",
   "source": "np.sum(df_mock.popid<7)/df_mock.shape[0]*100",
   "id": "1f08c357aa163dde",
   "execution_count": 12,
   "outputs": []
  },
  {
   "metadata": {
    "ExecuteTime": {
     "end_time": "2024-05-11T17:57:31.096853Z",
     "start_time": "2024-05-11T17:57:31.083165Z"
    }
   },
   "cell_type": "code",
   "source": [
    "# Compute XYZ coordinates using astropy SkyCoords\n",
    "c = SkyCoord(ra=df_mock.ra.values*u.deg, dec=df_mock.dec.values*u.deg, distance=(1000/df_mock.parallax.values)*u.pc, frame='icrs')\n",
    "c.representation_type = 'cartesian'\n",
    "df_mock['X'] = c.cartesian.x.value\n",
    "df_mock['Y'] = c.cartesian.y.value\n",
    "df_mock['Z'] = c.cartesian.z.value\n",
    "\n",
    "# Restrict to slice in Z axis\n",
    "# cut_z = (df_mock_sph.Z.values > -25) & (df_mock_sph.Z.values < 25)\n",
    "# cut_dist = df_mock_sph.X.values**2 + df_mock_sph.Y.values**2 + df_mock_sph.Z.values**2 < 250**2\n",
    "# df_mock = df_mock_sph.loc[cut_z & cut_dist].copy()"
   ],
   "id": "b86d1da672d6ed60",
   "execution_count": 4,
   "outputs": []
  },
  {
   "metadata": {
    "ExecuteTime": {
     "end_time": "2024-05-11T17:57:31.347147Z",
     "start_time": "2024-05-11T17:57:31.341147Z"
    }
   },
   "cell_type": "code",
   "source": [
    "df_mock['M_G'] = df_mock.phot_g_mean_mag - 5*np.log10(1_000/df_mock.parallax) + 5\n",
    "df_mock['BP-RP'] = df_mock.phot_bp_mean_mag - df_mock.phot_rp_mean_mag"
   ],
   "id": "cbe36d7f6738c265",
   "execution_count": 5,
   "outputs": []
  },
  {
   "metadata": {
    "ExecuteTime": {
     "end_time": "2024-05-11T17:57:31.817103Z",
     "start_time": "2024-05-11T17:57:31.628157Z"
    }
   },
   "cell_type": "code",
   "source": "plt.hist(df_mock.logg, bins=50, log=True);",
   "id": "a76e8a129424075b",
   "execution_count": 6,
   "outputs": []
  },
  {
   "metadata": {
    "ExecuteTime": {
     "end_time": "2024-05-11T17:57:32.277666Z",
     "start_time": "2024-05-11T17:57:32.275819Z"
    }
   },
   "cell_type": "code",
   "source": "print(type(df_mock))",
   "id": "5370cf4d338cd50c",
   "execution_count": 7,
   "outputs": []
  },
  {
   "metadata": {
    "ExecuteTime": {
     "end_time": "2024-05-11T17:57:32.592677Z",
     "start_time": "2024-05-11T17:57:32.590271Z"
    }
   },
   "cell_type": "code",
   "source": [
    "# plt.scatter(df_mock['BP-RP'], df_mock['M_G'], s=1, alpha=0.1, c=df_mock.logg>6)\n",
    "# plt.colorbar()\n",
    "# plt.gca().invert_yaxis()"
   ],
   "id": "ca16ca1bb0c90764",
   "execution_count": 8,
   "outputs": []
  },
  {
   "metadata": {
    "ExecuteTime": {
     "end_time": "2024-05-11T17:57:33.029007Z",
     "start_time": "2024-05-11T17:57:32.917839Z"
    }
   },
   "cell_type": "code",
   "source": [
    "# Remove stars with logg > 6\n",
    "cut_logg = df_mock.logg.values < 6\n",
    "data_mock = df_mock.loc[cut_logg].reset_index(drop=True).copy()"
   ],
   "id": "56f4c407b845a32d",
   "execution_count": 9,
   "outputs": []
  },
  {
   "metadata": {
    "ExecuteTime": {
     "end_time": "2024-05-11T17:57:33.333902Z",
     "start_time": "2024-05-11T17:57:33.196062Z"
    }
   },
   "cell_type": "code",
   "source": [
    "plt.scatter(data_mock.X, data_mock.Y, s=1, alpha=0.05)\n",
    "lim = 1000\n",
    "plt.xlim(-lim, lim)\n",
    "plt.ylim(-lim, lim)"
   ],
   "id": "71b7324e335bbc4c",
   "execution_count": 10,
   "outputs": []
  },
  {
   "metadata": {
    "ExecuteTime": {
     "end_time": "2024-05-11T17:57:33.845071Z",
     "start_time": "2024-05-11T17:57:33.839250Z"
    }
   },
   "cell_type": "code",
   "source": [
    "masses_mock = data_mock.current_mass.values\n",
    "logAge_mock = np.log10(data_mock.age.values*1_000_000_000)\n",
    "logg_mock = data_mock.logg.values\n",
    "feh_mock = data_mock.feh.values\n",
    "A_V_mock = data_mock.a0.values / 0.979\n",
    "\n",
    "cut_age = (logAge_mock >= 6.) & (logAge_mock <= 10.) & (feh_mock > -2) & (feh_mock < 0.3)\n",
    "np.sum(cut_age)"
   ],
   "id": "78a44fef153158e8",
   "execution_count": 11,
   "outputs": []
  },
  {
   "metadata": {
    "ExecuteTime": {
     "end_time": "2024-05-11T17:57:34.379237Z",
     "start_time": "2024-05-11T17:57:34.186880Z"
    }
   },
   "cell_type": "code",
   "source": "plt.hist(feh_mock, bins=100, log=True);",
   "id": "9bcd02bb76f2403f",
   "execution_count": 12,
   "outputs": []
  },
  {
   "metadata": {
    "ExecuteTime": {
     "end_time": "2024-05-11T17:57:34.985815Z",
     "start_time": "2024-05-11T17:57:34.830192Z"
    }
   },
   "cell_type": "code",
   "source": "plt.hist(logAge_mock, bins=100, log=True);",
   "id": "3b279569a2ecc886",
   "execution_count": 13,
   "outputs": []
  },
  {
   "metadata": {},
   "cell_type": "markdown",
   "source": "# Simulate IR photometry",
   "id": "8f71e63a51b53ce4"
  },
  {
   "metadata": {
    "ExecuteTime": {
     "end_time": "2024-05-11T17:57:36.747678Z",
     "start_time": "2024-05-11T17:57:36.048388Z"
    }
   },
   "cell_type": "code",
   "source": "cl_phot = ClusterPhotometry(gaia_files, ir_files) #, fname_spline_csv, fname_astrometric_corr)",
   "id": "25af0a7847615e9",
   "execution_count": 14,
   "outputs": []
  },
  {
   "metadata": {
    "ExecuteTime": {
     "end_time": "2024-05-11T17:57:39.202926Z",
     "start_time": "2024-05-11T17:57:37.188780Z"
    }
   },
   "cell_type": "code",
   "source": [
    "%%time\n",
    "df_mock_ir_phot = cl_phot.p_ir_obj.query_cmd(mass=masses_mock[cut_age], age=logAge_mock[cut_age], feh=feh_mock[cut_age])"
   ],
   "id": "437fc377319446d1",
   "execution_count": 15,
   "outputs": []
  },
  {
   "metadata": {
    "ExecuteTime": {
     "end_time": "2024-05-11T17:57:39.779857Z",
     "start_time": "2024-05-11T17:57:39.777010Z"
    }
   },
   "cell_type": "code",
   "source": "df_mock_ir_phot.shape",
   "id": "cfa71047fe5b3c9f",
   "execution_count": 16,
   "outputs": []
  },
  {
   "metadata": {
    "ExecuteTime": {
     "end_time": "2024-05-11T17:57:40.196105Z",
     "start_time": "2024-05-11T17:57:40.183650Z"
    }
   },
   "cell_type": "code",
   "source": [
    "# Apply extinction\n",
    "ex_corr = ExtinctionCorrection(df_mock_ir_phot.copy())\n",
    "df_mock_ir_phot_ext = ex_corr.apply_extinction(A_V_mock[cut_age], gaia=False)"
   ],
   "id": "348894ec912e311e",
   "execution_count": 17,
   "outputs": []
  },
  {
   "metadata": {
    "ExecuteTime": {
     "end_time": "2024-05-11T17:57:40.713603Z",
     "start_time": "2024-05-11T17:57:40.678652Z"
    }
   },
   "cell_type": "code",
   "source": "data_mock.loc[cut_age].shape, df_mock_ir_phot_ext.shape, df_mock_ir_phot.shape",
   "id": "c0678e89d21a5f77",
   "execution_count": 18,
   "outputs": []
  },
  {
   "metadata": {
    "ExecuteTime": {
     "end_time": "2024-05-11T17:57:41.296247Z",
     "start_time": "2024-05-11T17:57:41.226294Z"
    }
   },
   "cell_type": "code",
   "source": [
    "# Join with Gaia data\n",
    "data_mock_all = pd.concat([data_mock.loc[cut_age].reset_index(drop=True), df_mock_ir_phot_ext.reset_index(drop=True)], axis=1)"
   ],
   "id": "40da8a4d5551b154",
   "execution_count": 19,
   "outputs": []
  },
  {
   "metadata": {
    "ExecuteTime": {
     "end_time": "2024-05-11T17:57:41.618539Z",
     "start_time": "2024-05-11T17:57:41.616598Z"
    }
   },
   "cell_type": "code",
   "source": "# data_mock_all[df_mock_ir_phot_ext.columns].isna().sum()",
   "id": "4f6c5bd048dcc3c4",
   "execution_count": 20,
   "outputs": []
  },
  {
   "metadata": {
    "ExecuteTime": {
     "end_time": "2024-05-11T17:57:42.236614Z",
     "start_time": "2024-05-11T17:57:42.212620Z"
    }
   },
   "cell_type": "code",
   "source": [
    "# Transform to apparent magnitudes\n",
    "def apparent_mag(M_abs, plx):\n",
    "    distance = 1000/plx\n",
    "    return M_abs + 5 * np.log10(distance) - 5\n",
    "\n",
    "plx = data_mock_all.parallax\n",
    "\n",
    "abs2app_dict = {\n",
    "    'J': 'j', 'H': 'h', 'Ks': 'k',\n",
    "    'W1': 'w1', 'W2': 'w2', 'W3': 'w3', 'W4': 'w4',\n",
    "    'IRAC-1': 'irac1', 'IRAC-2': 'irac2', 'IRAC-3': 'irac3', 'IRAC-4': 'irac4', 'MIPS-1': 'mips1' \n",
    "}\n",
    "\n",
    "for col_abs, col_app in abs2app_dict.items():\n",
    "    data_mock_all[col_app] = apparent_mag(data_mock_all[col_abs], plx)"
   ],
   "id": "74cf4c5bd5b9c277",
   "execution_count": 21,
   "outputs": []
  },
  {
   "metadata": {
    "ExecuteTime": {
     "end_time": "2024-05-11T17:57:42.979363Z",
     "start_time": "2024-05-11T17:57:42.950083Z"
    }
   },
   "cell_type": "code",
   "source": "np.sum(data_mock_all[abs2app_dict.values()].isna().sum(axis=1)==0)/data_mock_all.shape[0]",
   "id": "3e703c1012e35816",
   "execution_count": 22,
   "outputs": []
  },
  {
   "metadata": {
    "ExecuteTime": {
     "end_time": "2024-05-11T18:13:22.912291Z",
     "start_time": "2024-05-11T18:13:22.829724Z"
    }
   },
   "cell_type": "code",
   "source": [
    "# Convolve with uncertainties\n",
    "ir_unc = IRPhotoUncertainty(errors_outside_range=np.nan)\n",
    "\n",
    "n_data = data_mock_all.shape[0]\n",
    "\n",
    "for col_abs, col_app in abs2app_dict.items():\n",
    "    mag_err = ir_unc.get_sigma(col_abs, data_mock_all[col_app].values)\n",
    "    missing_val = ir_unc.completeness_ir(col_abs, data_mock_all[col_app].values) < np.random.uniform(0, 1, n_data)\n",
    "    mag_err[missing_val] = np.nan\n",
    "    print(col_app, np.sum(missing_val))\n",
    "    # if col_abs in ['W1', 'W2', 'W3', 'W4']:\n",
    "    #     mag_err *= wise_err_scale\n",
    "    data_mock_all[col_app + '_error'] = mag_err"
   ],
   "id": "3c3513ffb60b2f56",
   "execution_count": 35,
   "outputs": []
  },
  {
   "metadata": {
    "ExecuteTime": {
     "end_time": "2024-05-11T18:13:24.529368Z",
     "start_time": "2024-05-11T18:13:24.497280Z"
    }
   },
   "cell_type": "code",
   "source": [
    "important_cols = [\n",
    "    'parallax',\n",
    "    'phot_g_mean_mag', 'phot_bp_mean_mag', 'phot_rp_mean_mag', \n",
    "    'j', 'h', 'k', \n",
    "    'w1', 'w2', 'w3', 'w4',\n",
    "    'irac1', 'irac2', 'irac3', 'irac4', 'mips1',\n",
    "]\n",
    "np.sum(data_mock_all[important_cols].isna().sum(axis=1)==0)/data_mock_all.shape[0]"
   ],
   "id": "976642103323078e",
   "execution_count": 36,
   "outputs": []
  },
  {
   "metadata": {
    "ExecuteTime": {
     "end_time": "2024-05-11T18:13:26.074742Z",
     "start_time": "2024-05-11T18:13:26.065987Z"
    }
   },
   "cell_type": "code",
   "source": [
    "# Compute parallax uncertainties\n",
    "plx_err = parallax_uncertainty(data_mock_all.phot_g_mean_mag, release='dr3') / 1_000.\n",
    "data_mock_all['parallax_error'] = plx_err"
   ],
   "id": "18a6fbf4a5c815e0",
   "execution_count": 37,
   "outputs": []
  },
  {
   "metadata": {
    "ExecuteTime": {
     "end_time": "2024-05-11T18:13:26.361172Z",
     "start_time": "2024-05-11T18:13:26.275478Z"
    }
   },
   "cell_type": "code",
   "source": [
    "# Sample from uncertainties\n",
    "err_dict = {\n",
    "    'parallax': 'parallax_error',\n",
    "    'phot_g_mean_mag': 'phot_g_mean_mag_error',\n",
    "    'phot_bp_mean_mag': 'phot_bp_mean_mag_error',\n",
    "    'phot_rp_mean_mag': 'phot_rp_mean_mag_error',\n",
    "    'j': 'j_error', 'h': 'h_error', 'k': 'k_error',\n",
    "    'w1': 'w1_error', 'w2': 'w2_error', 'w3': 'w3_error', 'w4': 'w4_error',\n",
    "    'irac1': 'irac1_error', 'irac2': 'irac2_error', 'irac3': 'irac3_error', 'irac4': 'irac4_error', 'mips1': 'mips1_error'\n",
    "}\n",
    "\n",
    "for col, col_err in err_dict.items():\n",
    "    data_mock_all[col + '_obs'] = data_mock_all[col] + np.random.normal(0, data_mock_all[col_err].values)"
   ],
   "id": "423136c1f20edf1a",
   "execution_count": 38,
   "outputs": []
  },
  {
   "metadata": {
    "ExecuteTime": {
     "end_time": "2024-05-11T18:13:26.973316Z",
     "start_time": "2024-05-11T18:13:26.931618Z"
    }
   },
   "cell_type": "code",
   "source": "data_mock_all.isna().sum()",
   "id": "4ec542d4b977ec3d",
   "execution_count": 39,
   "outputs": []
  },
  {
   "metadata": {
    "ExecuteTime": {
     "end_time": "2024-05-08T08:04:10.015517Z",
     "start_time": "2024-05-08T08:04:10.013913Z"
    }
   },
   "cell_type": "code",
   "source": "# data_mock_all.rename(columns={'parallax_true_obs': 'parallax_obs'}, inplace=True)",
   "id": "b4fff472c6b3de93",
   "execution_count": 46,
   "outputs": []
  },
  {
   "metadata": {
    "ExecuteTime": {
     "end_time": "2024-05-08T08:04:10.249289Z",
     "start_time": "2024-05-08T08:04:10.247621Z"
    }
   },
   "cell_type": "code",
   "source": [
    "# for col, col_err in err_dict.items():\n",
    "#     try:\n",
    "#         dat2plt = (data_mock_all[col + '_obs'] - data_mock_all[col])/data_mock_all[col]\n",
    "#         range_dat = np.nanpercentile(dat2plt, [0.5, 99.5])\n",
    "#         plt.hist(dat2plt, bins=np.linspace(*range_dat, 50), log=True)\n",
    "#         plt.title(col)\n",
    "#         plt.show()\n",
    "#     except:\n",
    "#         print(col)"
   ],
   "id": "547127b38c95bece",
   "execution_count": 47,
   "outputs": []
  },
  {
   "metadata": {
    "ExecuteTime": {
     "end_time": "2024-05-11T18:13:30.273002Z",
     "start_time": "2024-05-11T18:13:30.264613Z"
    }
   },
   "cell_type": "code",
   "source": [
    "data_mock_all['logAge'] = np.log10(data_mock_all.age.values*1_000_000_000)\n",
    "data_mock_all['A_V'] = data_mock_all.a0.values / 0.979"
   ],
   "id": "60a2f19bb557dd2d",
   "execution_count": 40,
   "outputs": []
  },
  {
   "metadata": {
    "ExecuteTime": {
     "end_time": "2024-05-11T18:13:31.421129Z",
     "start_time": "2024-05-11T18:13:31.402545Z"
    }
   },
   "cell_type": "code",
   "source": [
    "# Save observed XYZ\n",
    "# Compute XYZ coordinates using astropy SkyCoords\n",
    "distance = Distance(parallax=data_mock_all.parallax_obs.values*u.mas, allow_negative=True)\n",
    "c = SkyCoord(ra=data_mock_all.ra.values*u.deg, dec=data_mock_all.dec.values*u.deg, distance=distance, frame='icrs')\n",
    "c.representation_type = 'cartesian'\n",
    "data_mock_all['X_obs'] = c.cartesian.x.value\n",
    "data_mock_all['Y_obs'] = c.cartesian.y.value\n",
    "data_mock_all['Z_obs'] = c.cartesian.z.value"
   ],
   "id": "42ba77d60d3de20b",
   "execution_count": 41,
   "outputs": []
  },
  {
   "metadata": {
    "ExecuteTime": {
     "end_time": "2024-05-11T18:14:53.806244Z",
     "start_time": "2024-05-11T18:14:53.803362Z"
    }
   },
   "cell_type": "code",
   "source": "data_mock_all.columns",
   "id": "cc2e722e2d112c37",
   "execution_count": 43,
   "outputs": []
  },
  {
   "metadata": {
    "ExecuteTime": {
     "end_time": "2024-05-11T18:14:26.540213Z",
     "start_time": "2024-05-11T18:14:25.971701Z"
    }
   },
   "cell_type": "code",
   "source": [
    "other_features = [\n",
    "    'X', 'Y', 'Z', 'X_obs', 'Y_obs', 'Z_obs'\n",
    "]\n",
    "\n",
    "input_features = [\n",
    "    # Observed values\n",
    "    'parallax_obs', 'phot_g_mean_mag_obs', 'phot_bp_mean_mag_obs', 'phot_rp_mean_mag_obs', \n",
    "    # 'j_obs', 'h_obs', 'k_obs', \n",
    "    # 'w1_obs', 'w2_obs', 'w3_obs', 'w4_obs', \n",
    "    # 'irac1_obs', 'irac2_obs', 'irac3_obs', 'irac4_obs', 'mips1_obs',\n",
    "    # # Uncertainties\n",
    "    'parallax_error', 'phot_g_mean_mag_error', 'phot_bp_mean_mag_error', 'phot_rp_mean_mag_error',\n",
    "    'j_error', 'h_error', 'k_error', 'w1_error', 'w2_error', 'w3_error',\n",
    "    'w4_error', 'irac1_error', 'irac2_error', 'irac3_error', 'irac4_error', 'mips1_error',\n",
    "] \n",
    "output_features = [\n",
    "    'parallax', 'logAge', 'feh', 'A_V'\n",
    "]\n",
    "\n",
    "df_field = data_mock_all.loc[input_features + output_features + other_features].copy()"
   ],
   "id": "f1e243c128d985db",
   "execution_count": 42,
   "outputs": []
  },
  {
   "metadata": {
    "ExecuteTime": {
     "end_time": "2024-05-11T18:15:09.400677Z",
     "start_time": "2024-05-11T18:15:09.260761Z"
    }
   },
   "cell_type": "code",
   "source": [
    "plt.scatter(data_mock_all.X_obs, data_mock_all.Y_obs, s=1, alpha=0.05)\n",
    "lim = 1000\n",
    "plt.xlim(-lim, lim)\n",
    "plt.ylim(-lim, lim)"
   ],
   "id": "1fed78a00c2676ed",
   "execution_count": 44,
   "outputs": []
  },
  {
   "metadata": {
    "ExecuteTime": {
     "end_time": "2024-05-11T18:15:28.645529Z",
     "start_time": "2024-05-11T18:15:28.642728Z"
    }
   },
   "cell_type": "code",
   "source": "data_mock_all.columns",
   "id": "ff31879c793bf3f7",
   "execution_count": 46,
   "outputs": []
  },
  {
   "metadata": {
    "ExecuteTime": {
     "end_time": "2024-05-11T18:15:35.023847Z",
     "start_time": "2024-05-11T18:15:35.022175Z"
    }
   },
   "cell_type": "code",
   "source": "# [col for col in data_mock_all.columns]",
   "id": "1c5b04892a7be886",
   "execution_count": 47,
   "outputs": []
  },
  {
   "metadata": {
    "ExecuteTime": {
     "end_time": "2024-05-11T18:15:37.915235Z",
     "start_time": "2024-05-11T18:15:37.752481Z"
    }
   },
   "cell_type": "code",
   "source": "plt.hist(np.log10(data_mock_all.age*1_000_000_000), bins=100, log=True)",
   "id": "477b0e6180b99f16",
   "execution_count": 48,
   "outputs": []
  },
  {
   "metadata": {
    "ExecuteTime": {
     "end_time": "2024-05-11T18:16:04.599137Z",
     "start_time": "2024-05-11T18:15:50.370168Z"
    }
   },
   "cell_type": "code",
   "source": [
    "fout = '/Users/ratzenboe/Library/CloudStorage/Dropbox/work/data/mock_edr3/edr3_mock_1kpc_sphere_IRphot_May2024_FINAL.csv'\n",
    "data_mock_all.to_csv(fout, index=False)"
   ],
   "id": "be4fa7b57693846d",
   "execution_count": 49,
   "outputs": []
  },
  {
   "metadata": {},
   "cell_type": "code",
   "execution_count": null,
   "source": "",
   "id": "d7527563dd384121",
   "outputs": []
  }
 ],
 "metadata": {
  "kernelspec": {
   "display_name": "Python 3",
   "language": "python",
   "name": "python3"
  },
  "language_info": {
   "codemirror_mode": {
    "name": "ipython",
    "version": 2
   },
   "file_extension": ".py",
   "mimetype": "text/x-python",
   "name": "python",
   "nbconvert_exporter": "python",
   "pygments_lexer": "ipython2",
   "version": "2.7.6"
  }
 },
 "nbformat": 4,
 "nbformat_minor": 5
}
