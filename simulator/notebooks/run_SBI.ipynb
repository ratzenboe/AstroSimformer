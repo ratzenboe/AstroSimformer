{
 "cells": [
  {
   "cell_type": "code",
   "id": "initial_id",
   "metadata": {
    "collapsed": true,
    "ExecuteTime": {
     "end_time": "2024-05-15T09:15:25.081519Z",
     "start_time": "2024-05-15T09:15:25.078405Z"
    }
   },
   "source": [
    "import numpy as np\n",
    "import pandas as pd\n",
    "import torch\n",
    "import sbi.utils as utils\n",
    "import pickle\n",
    "from sbi.inference import SNPE"
   ],
   "execution_count": 20,
   "outputs": []
  },
  {
   "metadata": {
    "ExecuteTime": {
     "end_time": "2024-05-15T09:15:26.966559Z",
     "start_time": "2024-05-15T09:15:25.364716Z"
    }
   },
   "cell_type": "code",
   "source": [
    "# Load data\n",
    "fname_in = '/Users/ratzenboe/Library/CloudStorage/Dropbox/work/data/mock_edr3/edr3_mock_field_newClusters_ageSpread_May2024_ALL_NEW.csv'\n",
    "df = pd.read_csv(fname_in)"
   ],
   "id": "df74472e191deb7",
   "execution_count": 21,
   "outputs": []
  },
  {
   "metadata": {
    "ExecuteTime": {
     "end_time": "2024-05-15T12:14:20.630301Z",
     "start_time": "2024-05-15T12:14:20.627090Z"
    }
   },
   "cell_type": "code",
   "source": "df.train_val_samples.sum() + df.test_samples.sum()",
   "id": "d4b3b470c8c9d4b2",
   "execution_count": 50,
   "outputs": []
  },
  {
   "metadata": {},
   "cell_type": "markdown",
   "source": "",
   "id": "1f46929bac5518e7"
  },
  {
   "metadata": {
    "ExecuteTime": {
     "end_time": "2024-05-15T09:15:28.835602Z",
     "start_time": "2024-05-15T09:15:28.832496Z"
    }
   },
   "cell_type": "code",
   "source": [
    "# 3 Different models\n",
    "# ------ All features ------\n",
    "df['train_val_samples'] = False\n",
    "df['test_samples'] = False"
   ],
   "id": "d86c415a5a502f86",
   "execution_count": 23,
   "outputs": []
  },
  {
   "metadata": {
    "ExecuteTime": {
     "end_time": "2024-05-15T09:16:22.950528Z",
     "start_time": "2024-05-15T09:16:22.839265Z"
    }
   },
   "cell_type": "code",
   "source": [
    "# Define training and test set rows\n",
    "\n",
    "features_X_max = [\n",
    "    'parallax_obs', 'A_V_obs',\n",
    "    'phot_g_mean_mag_obs', 'phot_bp_mean_mag_obs', 'phot_rp_mean_mag_obs',\n",
    "    'j_obs', 'h_obs', 'k_obs', \n",
    "    'w1_obs', 'w2_obs', #'w3_obs', #'w4_obs',\n",
    "    'irac1_obs', 'irac2_obs', 'irac3_obs', 'irac4_obs', #'mips1_obs', \n",
    "    # Errors (A_V error constant, so not needed)\n",
    "    'parallax_error',\n",
    "    'phot_g_mean_mag_error', 'phot_bp_mean_mag_error', 'phot_rp_mean_mag_error', \n",
    "    'j_error', 'h_error', 'k_error',\n",
    "    'w1_error', 'w2_error', #'w3_error', #'w4_error',\n",
    "    'irac1_error', 'irac2_error', 'irac3_error', 'irac4_error', #'mips1_error'\n",
    "]\n",
    "\n",
    "features_y_max = ['parallax_true', 'logAge', 'A_V', 'feh']\n",
    "\n",
    "train_test_set = df[features_X_max + features_y_max].isna().sum(axis=1)==0\n",
    "df_X_y = df.loc[train_test_set]\n",
    "\n",
    "n_samples_val = 30_000 \n",
    "idx_rand_perm = np.random.permutation(df_X_y.shape[0])\n",
    "idx_train = idx_rand_perm[n_samples_val:]\n",
    "idx_test = idx_rand_perm[:n_samples_val]\n",
    "idx_test.shape"
   ],
   "id": "980f48f747a4f1ea",
   "execution_count": 32,
   "outputs": []
  },
  {
   "metadata": {
    "ExecuteTime": {
     "end_time": "2024-05-15T09:16:23.148857Z",
     "start_time": "2024-05-15T09:16:23.146479Z"
    }
   },
   "cell_type": "code",
   "source": "df.shape",
   "id": "fd5a7c7a00b496a8",
   "execution_count": 33,
   "outputs": []
  },
  {
   "metadata": {
    "ExecuteTime": {
     "end_time": "2024-05-15T09:16:24.079877Z",
     "start_time": "2024-05-15T09:16:24.066030Z"
    }
   },
   "cell_type": "code",
   "source": [
    "l, counts = np.unique(df_X_y.labels, return_counts=True)\n",
    "counts[l>-1].sum(), counts[l==-1].sum()"
   ],
   "id": "50ab3f629ae6d50b",
   "execution_count": 34,
   "outputs": []
  },
  {
   "metadata": {
    "ExecuteTime": {
     "end_time": "2024-05-15T09:16:25.102444Z",
     "start_time": "2024-05-15T09:16:24.909678Z"
    }
   },
   "cell_type": "code",
   "source": "(df_X_y.logAge).hist(bins=50, log=True)",
   "id": "b5bbad8183afef9d",
   "execution_count": 35,
   "outputs": []
  },
  {
   "metadata": {
    "ExecuteTime": {
     "end_time": "2024-05-15T09:16:26.240814Z",
     "start_time": "2024-05-15T09:16:26.217819Z"
    }
   },
   "cell_type": "code",
   "source": [
    "df.loc[np.arange(df.shape[0])[train_test_set][idx_train], 'train_val_samples'] = True\n",
    "df.loc[np.arange(df.shape[0])[train_test_set][idx_test], 'test_samples'] = True"
   ],
   "id": "6cc43c948c8e279c",
   "execution_count": 36,
   "outputs": []
  },
  {
   "metadata": {
    "ExecuteTime": {
     "end_time": "2024-05-15T09:16:26.547091Z",
     "start_time": "2024-05-15T09:16:26.532971Z"
    }
   },
   "cell_type": "code",
   "source": "df.loc[df.test_samples].shape",
   "id": "997983909c80e566",
   "execution_count": 37,
   "outputs": []
  },
  {
   "metadata": {
    "ExecuteTime": {
     "end_time": "2024-05-15T09:16:27.770481Z",
     "start_time": "2024-05-15T09:16:27.759082Z"
    }
   },
   "cell_type": "code",
   "source": [
    "df['id'] = -1\n",
    "df.loc[df.test_samples, 'id'] = np.arange(df.loc[df.test_samples].shape[0])"
   ],
   "id": "5536419eb9d9f369",
   "execution_count": 38,
   "outputs": []
  },
  {
   "metadata": {
    "ExecuteTime": {
     "end_time": "2024-05-15T09:16:28.707948Z",
     "start_time": "2024-05-15T09:16:28.705099Z"
    }
   },
   "cell_type": "code",
   "source": [
    "# fname_out = '/Users/ratzenboe/Library/CloudStorage/Dropbox/work/data/mock_edr3/sim_field_clusters_TrainTest_new.csv'\n",
    "# df.to_csv(fname_out, index=False)"
   ],
   "id": "c616e4c8568fdb60",
   "execution_count": 39,
   "outputs": []
  },
  {
   "metadata": {
    "ExecuteTime": {
     "end_time": "2024-05-15T09:16:28.921130Z",
     "start_time": "2024-05-15T09:16:28.917717Z"
    }
   },
   "cell_type": "code",
   "source": [
    "# Define feature sets\n",
    "features_X_shared = [\n",
    "    'phot_g_mean_mag_obs', 'phot_bp_mean_mag_obs', 'phot_rp_mean_mag_obs',\n",
    "    'j_obs', 'h_obs', 'k_obs',\n",
    "    'phot_g_mean_mag_error', 'phot_bp_mean_mag_error', 'phot_rp_mean_mag_error', \n",
    "    'j_error', 'h_error', 'k_error',\n",
    "]\n",
    "features_X_wise_irac = [\n",
    "    'w1_obs', 'w2_obs', #'w3_obs', 'w4_obs',\n",
    "    'irac1_obs', 'irac2_obs', 'irac3_obs', 'irac4_obs', #'mips1_obs',\n",
    "    'w1_error', 'w2_error', #'w3_error', 'w4_error',\n",
    "    'irac1_error', 'irac2_error', 'irac3_error', 'irac4_error', #'mips1_error'\n",
    "]\n",
    "features_plx = ['parallax_obs', 'parallax_error']\n",
    "features_Av = ['A_V_obs']\n",
    "\n",
    "model_specifics = {\n",
    "    # 'all': {\n",
    "    #     'features_X': features_X_shared + features_X_wise_irac + features_plx,\n",
    "    #     'features_y': ['parallax_true', 'logAge'],\n",
    "    #     'model_str': 'X_allFeatures__y_parallax_logAge'\n",
    "    # },\n",
    "    'SED_only': {\n",
    "        'features_X': features_X_shared + features_X_wise_irac,\n",
    "        'features_y': ['parallax_true', 'logAge'],\n",
    "        'model_str': 'X_SEDonly__y_parallax_logAge'\n",
    "    },\n",
    "    # 'Sagitta': {\n",
    "    #     'features_X': features_X_shared + features_plx + features_Av,\n",
    "    #     'features_y': ['parallax_true', 'logAge'],\n",
    "    #     'model_str': 'X_Sagitta__y_parallax_logAge'\n",
    "    # }\n",
    "}"
   ],
   "id": "562f1645a5cbc3fa",
   "execution_count": 40,
   "outputs": []
  },
  {
   "metadata": {
    "ExecuteTime": {
     "end_time": "2024-05-15T09:16:29.727822Z",
     "start_time": "2024-05-15T09:16:29.725149Z"
    }
   },
   "cell_type": "code",
   "source": [
    "# for model_abbr, m_infos in model_specifics.items():\n",
    "#     features_X = m_infos['features_X']\n",
    "#     features_y = m_infos['features_y']\n",
    "#     model_str = m_infos['model_str']\n",
    "#     print(model_str)"
   ],
   "id": "ede2ed49588a01e7",
   "execution_count": 41,
   "outputs": []
  },
  {
   "metadata": {
    "ExecuteTime": {
     "end_time": "2024-05-15T09:16:29.988341Z",
     "start_time": "2024-05-15T09:16:29.920205Z"
    }
   },
   "cell_type": "code",
   "source": [
    "fpath = '/Users/ratzenboe/Documents/work/code/notebooks/SBI/trained_models/'\n",
    "\n",
    "# Training loop: all models\n",
    "for model_abbr, m_infos in model_specifics.items():\n",
    "    features_X = m_infos['features_X']\n",
    "    features_y = m_infos['features_y']\n",
    "    model_str = m_infos['model_str']\n",
    "\n",
    "    # Define training and test data\n",
    "    x_samples = torch.tensor(df.loc[df.train_val_samples, features_X].values.astype(np.float32))\n",
    "    theta_samples = torch.tensor(df.loc[df.train_val_samples, features_y].values.astype(np.float32))\n",
    "    # Normalize the data\n",
    "    # -- X --\n",
    "    x_mean = x_samples.mean(dim=0)\n",
    "    x_std = x_samples.std(dim=0)\n",
    "    x_train = (x_samples - x_mean) / x_std\n",
    "    # -- theta --\n",
    "    theta_mean = theta_samples.mean(dim=0)\n",
    "    theta_std = theta_samples.std(dim=0)\n",
    "    theta_train = (theta_samples - theta_mean) / theta_std\n",
    "    \n",
    "    # ----- Define priors ------\n",
    "    theta_mins = torch.tensor(df.loc[df.train_val_samples, features_y].min().values.astype(np.float32))\n",
    "    theta_maxs = torch.tensor(df.loc[df.train_val_samples, features_y].max().values.astype(np.float32))\n",
    "    print(theta_mins, theta_maxs)\n",
    "    # Normalize the mins and maxs\n",
    "    theta_mins = (theta_mins - theta_mean) / theta_std\n",
    "    theta_maxs = (theta_maxs - theta_mean) / theta_std\n",
    "    # Define prior\n",
    "    prior = utils.BoxUniform(\n",
    "        low=theta_mins,\n",
    "        high=theta_maxs\n",
    "    )\n",
    "    print('Training model:', model_str)\n",
    "    # sample parameters theta and observations x\n",
    "    inference = SNPE(prior=prior)\n",
    "    inference.append_simulations(x=x_train, theta=theta_train)\n",
    "    density_estimator = inference.train(\n",
    "        num_atoms=50,\n",
    "        training_batch_size=512, \n",
    "        validation_fraction=0.1,\n",
    "        learning_rate = 5e-4,\n",
    "        show_train_summary=True,\n",
    "    )\n",
    "    posterior = inference.build_posterior(density_estimator)\n",
    "    # ----------- Save model -----------\n",
    "    with open(fpath + f\"posterior_{model_str}.pkl\", \"wb\") as handle:\n",
    "        pickle.dump(posterior, handle)\n",
    "        \n",
    "    scale_factors = {\n",
    "        'theta_mean': theta_mean,\n",
    "        'theta_std': theta_std,\n",
    "        'x_mean': x_mean,\n",
    "        'x_std': x_std\n",
    "    }\n",
    "    with open(fpath + f\"scale_factors_{model_str}.pkl\", \"wb\") as handle:\n",
    "        pickle.dump(scale_factors, handle)\n",
    "        \n",
    "    features_X_y = {\n",
    "        'X': features_X,\n",
    "        'y': features_y\n",
    "    }\n",
    "    with open(fpath + f'features_{model_str}.pkl', 'wb') as handle:\n",
    "        pickle.dump(features_X_y, handle)\n",
    "    print('Done!')"
   ],
   "id": "4314ab5a2baffc12",
   "execution_count": 42,
   "outputs": []
  },
  {
   "metadata": {
    "ExecuteTime": {
     "end_time": "2024-05-15T09:18:19.238481Z",
     "start_time": "2024-05-15T09:18:19.235966Z"
    }
   },
   "cell_type": "code",
   "source": "1000/500",
   "id": "89b29aac07144ef3",
   "execution_count": 48,
   "outputs": []
  },
  {
   "metadata": {},
   "cell_type": "code",
   "execution_count": null,
   "source": "",
   "id": "f0dc5816cec6b376",
   "outputs": []
  }
 ],
 "metadata": {
  "kernelspec": {
   "display_name": "Python 3",
   "language": "python",
   "name": "python3"
  },
  "language_info": {
   "codemirror_mode": {
    "name": "ipython",
    "version": 2
   },
   "file_extension": ".py",
   "mimetype": "text/x-python",
   "name": "python",
   "nbconvert_exporter": "python",
   "pygments_lexer": "ipython2",
   "version": "2.7.6"
  }
 },
 "nbformat": 4,
 "nbformat_minor": 5
}
