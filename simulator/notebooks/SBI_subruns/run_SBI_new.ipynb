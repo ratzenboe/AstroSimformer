{
 "cells": [
  {
   "cell_type": "code",
   "id": "initial_id",
   "metadata": {
    "collapsed": true,
    "ExecuteTime": {
     "end_time": "2024-05-08T15:19:30.907528Z",
     "start_time": "2024-05-08T15:19:07.931991Z"
    }
   },
   "source": [
    "import numpy as np\n",
    "import pandas as pd\n",
    "import matplotlib.pyplot as plt\n",
    "import torch\n",
    "from torch.utils.data import TensorDataset, DataLoader, random_split\n",
    "import sbi.utils as utils\n",
    "from astropy.coordinates import SkyCoord, ICRS, Galactic\n",
    "from astropy import units as u\n",
    "import pickle\n",
    "from sbi import analysis as analysis\n",
    "from sbi.inference.base import infer"
   ],
   "execution_count": 1,
   "outputs": []
  },
  {
   "metadata": {
    "ExecuteTime": {
     "end_time": "2024-05-08T15:19:31.659698Z",
     "start_time": "2024-05-08T15:19:30.908664Z"
    }
   },
   "cell_type": "code",
   "source": [
    "# Load data\n",
    "df = pd.read_csv('/Users/ratzenboe/Library/CloudStorage/Dropbox/work/data/mock_edr3/edr3_mock_field+clusters.csv')"
   ],
   "id": "df74472e191deb7",
   "execution_count": 2,
   "outputs": []
  },
  {
   "metadata": {
    "ExecuteTime": {
     "end_time": "2024-05-08T15:19:33.272847Z",
     "start_time": "2024-05-08T15:19:32.874381Z"
    }
   },
   "cell_type": "code",
   "source": "df.logAge.hist(bins=100, log=True);",
   "id": "df6e71e50d7b5db0",
   "execution_count": 3,
   "outputs": []
  },
  {
   "metadata": {
    "ExecuteTime": {
     "end_time": "2024-05-08T15:19:34.542329Z",
     "start_time": "2024-05-08T15:19:34.539687Z"
    }
   },
   "cell_type": "code",
   "source": [
    "features_X = [\n",
    "    'parallax_obs', \n",
    "    'phot_g_mean_mag_obs', 'phot_bp_mean_mag_obs', 'phot_rp_mean_mag_obs',\n",
    "    'j_obs', 'h_obs', 'k_obs', \n",
    "    'w1_obs', 'w2_obs', 'w3_obs', 'w4_obs',\n",
    "    'irac1_obs', 'irac2_obs', 'irac3_obs', 'irac4_obs', 'mips1_obs', \n",
    "    # Errors\n",
    "    'parallax_error',\n",
    "    'phot_g_mean_mag_error', 'phot_bp_mean_mag_error', 'phot_rp_mean_mag_error', \n",
    "    'j_error', 'h_error', 'k_error',\n",
    "    'w1_error', 'w2_error', 'w3_error', 'w4_error',\n",
    "    'irac1_error', 'irac2_error', 'irac3_error', 'irac4_error', 'mips1_error'\n",
    "]\n",
    "\n",
    "features_y = ['parallax', 'logAge', 'A_V', 'feh']"
   ],
   "id": "562f1645a5cbc3fa",
   "execution_count": 4,
   "outputs": []
  },
  {
   "metadata": {
    "ExecuteTime": {
     "end_time": "2024-05-08T15:19:46.363149Z",
     "start_time": "2024-05-08T15:19:46.358391Z"
    }
   },
   "cell_type": "code",
   "source": "df[features_y].min()",
   "id": "842310dc404e88f6",
   "execution_count": 8,
   "outputs": []
  },
  {
   "metadata": {
    "ExecuteTime": {
     "end_time": "2024-05-08T15:19:47.943399Z",
     "start_time": "2024-05-08T15:19:47.926893Z"
    }
   },
   "cell_type": "code",
   "source": [
    "x_orig = torch.tensor(df[features_X].values.astype(np.float32))\n",
    "theta_orig = torch.tensor(df[features_y].values.astype(np.float32))"
   ],
   "id": "2164124b1e43a675",
   "execution_count": 9,
   "outputs": []
  },
  {
   "metadata": {},
   "cell_type": "markdown",
   "source": "# Normalize the data",
   "id": "4c78fd91315159dc"
  },
  {
   "metadata": {
    "ExecuteTime": {
     "end_time": "2024-05-08T15:19:49.403254Z",
     "start_time": "2024-05-08T15:19:49.382711Z"
    }
   },
   "cell_type": "code",
   "source": [
    "x_mean = x_orig.mean(dim=0)\n",
    "x_std = x_orig.std(dim=0)\n",
    "x_samples = (x_orig - x_mean) / x_std\n",
    "\n",
    "theta_mean = theta_orig.mean(dim=0)\n",
    "theta_std = theta_orig.std(dim=0)\n",
    "theta_samples = (theta_orig - theta_mean) / theta_std"
   ],
   "id": "24ae3e1d500e07e9",
   "execution_count": 10,
   "outputs": []
  },
  {
   "metadata": {},
   "cell_type": "markdown",
   "source": "# Train and validation set",
   "id": "60d97c5b9721df85"
  },
  {
   "metadata": {
    "ExecuteTime": {
     "end_time": "2024-05-08T15:19:52.606161Z",
     "start_time": "2024-05-08T15:19:52.597722Z"
    }
   },
   "cell_type": "code",
   "source": [
    "val_fraction = 0.5\n",
    "n_samples_val = int(val_fraction * len(x_samples))\n",
    "\n",
    "dataset = TensorDataset(x_samples, theta_samples)\n",
    "dataset_train, dataset_val = random_split(dataset, [len(x_samples) - n_samples_val, n_samples_val])\n",
    "x_train, theta_train = dataset_train.dataset.tensors\n",
    "x_val, theta_val = dataset_val.dataset.tensors"
   ],
   "id": "e36ad16becfa400d",
   "execution_count": 11,
   "outputs": []
  },
  {
   "metadata": {},
   "cell_type": "markdown",
   "source": "# Define priors",
   "id": "8dafc4db00ccc491"
  },
  {
   "metadata": {
    "ExecuteTime": {
     "end_time": "2024-05-08T15:20:03.841113Z",
     "start_time": "2024-05-08T15:20:03.828617Z"
    }
   },
   "cell_type": "code",
   "source": [
    "theta_mins = torch.tensor(df[features_y].min().values.astype(np.float32))\n",
    "theta_maxs = torch.tensor(df[features_y].max().values.astype(np.float32))\n",
    "# Normalize the mins and maxs\n",
    "theta_mins = (theta_mins - theta_mean) / theta_std\n",
    "theta_maxs = (theta_maxs - theta_mean) / theta_std\n",
    "\n",
    "# Define prior\n",
    "prior = utils.BoxUniform(\n",
    "    low=theta_mins,\n",
    "    high=theta_maxs\n",
    ")"
   ],
   "id": "c864690f4f82e267",
   "execution_count": 12,
   "outputs": []
  },
  {
   "metadata": {
    "ExecuteTime": {
     "end_time": "2024-05-08T15:21:06.659812Z",
     "start_time": "2024-05-08T15:21:05.989677Z"
    }
   },
   "cell_type": "code",
   "source": [
    "from sbi.inference import SNPE\n",
    "# sample parameters theta and observations x\n",
    "inference = SNPE(prior=prior)\n",
    "inference.append_simulations(x=x_train, theta=theta_train)"
   ],
   "id": "9d435d54b23b4240",
   "execution_count": 14,
   "outputs": []
  },
  {
   "metadata": {
    "ExecuteTime": {
     "end_time": "2024-05-08T15:57:04.191488Z",
     "start_time": "2024-05-08T15:22:31.624963Z"
    }
   },
   "cell_type": "code",
   "source": [
    "%%time\n",
    "density_estimator = inference.train()"
   ],
   "id": "8b6010406623e1ec",
   "execution_count": 16,
   "outputs": []
  },
  {
   "metadata": {},
   "cell_type": "markdown",
   "source": "# Build the posterior",
   "id": "1c23e06c389eb355"
  },
  {
   "metadata": {
    "ExecuteTime": {
     "end_time": "2024-05-08T15:58:59.617484Z",
     "start_time": "2024-05-08T15:58:59.605595Z"
    }
   },
   "cell_type": "code",
   "source": "posterior = inference.build_posterior(density_estimator) #, sample_with='mcmc')",
   "id": "9e55ad4765e68f13",
   "execution_count": 17,
   "outputs": []
  },
  {
   "metadata": {
    "ExecuteTime": {
     "end_time": "2024-05-08T16:00:33.574507Z",
     "start_time": "2024-05-08T16:00:33.568032Z"
    }
   },
   "cell_type": "code",
   "source": [
    "# # Save model\n",
    "fname = \"/Users/ratzenboe/Documents/work/code/notebooks/SBI/trained_models/model_new_withPlx.pkl\"\n",
    "with open(fname, \"wb\") as handle:\n",
    "    pickle.dump(posterior, handle)"
   ],
   "id": "1e1f1cd62de1140b",
   "execution_count": 18,
   "outputs": []
  },
  {
   "metadata": {
    "ExecuteTime": {
     "end_time": "2024-05-08T16:41:26.179902Z",
     "start_time": "2024-05-08T16:00:42.381919Z"
    }
   },
   "cell_type": "code",
   "source": [
    "%%time\n",
    "\n",
    "post_info = {}\n",
    "\n",
    "i = 0\n",
    "# i_max = 50_000\n",
    "for x_val, theta_val in dataset_val:\n",
    "    posterior_samples = posterior.sample((1_000,), x=x_val, show_progress_bars=False)\n",
    "    plx_post, logAge_post, A_V_post, feh_post = (posterior_samples * theta_std + theta_mean).numpy().T\n",
    "    plx_true, logAge_true, A_V_true, feh_true = (theta_val * theta_std + theta_mean).numpy().T\n",
    "\n",
    "    post_info[i] = {\n",
    "        'post_samples': posterior_samples * theta_std + theta_mean,\n",
    "        'true': theta_val * theta_std + theta_mean,\n",
    "        'plx_post': plx_post,\n",
    "        'plx_true': plx_true,\n",
    "        'logAge_post': logAge_post,\n",
    "        'logAge_true': logAge_true,\n",
    "        'A_V_post': A_V_post,\n",
    "        'A_V_true': A_V_true,\n",
    "        'feh_post': feh_post,\n",
    "        'feh_true': feh_true\n",
    "    }\n",
    "    i+=1\n",
    "\n",
    "    # if i >= i_max:\n",
    "    #     break"
   ],
   "id": "8525eed79d1a5f1b",
   "execution_count": 19,
   "outputs": []
  },
  {
   "metadata": {
    "ExecuteTime": {
     "end_time": "2024-05-08T16:44:28.358093Z",
     "start_time": "2024-05-08T16:44:16.817417Z"
    }
   },
   "cell_type": "code",
   "source": [
    "with open(\"/Users/ratzenboe/Documents/work/code/notebooks/SBI/trained_models/validation_est_NEW_with_plx_infos.pkl\", \"wb\") as handle:\n",
    "    pickle.dump(post_info, handle)"
   ],
   "id": "266626d0acd02b65",
   "execution_count": 20,
   "outputs": []
  },
  {
   "metadata": {
    "ExecuteTime": {
     "end_time": "2024-05-08T16:44:28.363686Z",
     "start_time": "2024-05-08T16:44:28.359341Z"
    }
   },
   "cell_type": "code",
   "source": "import corner",
   "id": "4b751f6f9c4c6df5",
   "execution_count": 21,
   "outputs": []
  },
  {
   "metadata": {
    "ExecuteTime": {
     "end_time": "2024-05-08T16:44:28.365938Z",
     "start_time": "2024-05-08T16:44:28.364445Z"
    }
   },
   "cell_type": "code",
   "source": [
    "# # Plot posterior samples\n",
    "# i = 50\n",
    "# corner.corner(post_info[i]['post_samples'].numpy(), labels=features_y, truths=post_info[i]['true'].numpy());"
   ],
   "id": "aca3b27bc9cf8abb",
   "execution_count": 22,
   "outputs": []
  },
  {
   "metadata": {
    "ExecuteTime": {
     "end_time": "2024-05-08T16:44:33.959029Z",
     "start_time": "2024-05-08T16:44:28.367204Z"
    }
   },
   "cell_type": "code",
   "source": [
    "dist_pred = np.array([np.median(1000/pi['plx_post']) for pi in post_info.values()])\n",
    "dist_true = np.array([1000/pi['plx_true'] for pi in post_info.values()])\n",
    "dist_obs = 1000/df.loc[dataset_val.indices, 'parallax_obs'].values\n",
    "\n",
    "logAge_pred = np.array([np.median(pi['logAge_post']) for pi in post_info.values()])\n",
    "logAge_true = np.array([pi['logAge_true'] for pi in post_info.values()])"
   ],
   "id": "2b3c424e611312e3",
   "execution_count": 23,
   "outputs": []
  },
  {
   "metadata": {
    "ExecuteTime": {
     "end_time": "2024-05-08T16:44:49.844019Z",
     "start_time": "2024-05-08T16:44:49.620235Z"
    }
   },
   "cell_type": "code",
   "source": [
    "fig, axes = plt.subplots(1, 2, figsize=(10, 5))\n",
    "lim_x = [0, 1100]\n",
    "lim_y = [0, 1500]\n",
    "\n",
    "axes[0].scatter(dist_true, dist_obs, s=1, alpha=0.1)\n",
    "axes[0].set_xlabel('True distance [pc]')\n",
    "axes[0].set_ylabel('Observed distance [pc]')\n",
    "axes[0].set_xlim(lim_x)\n",
    "axes[0].set_ylim(lim_y)\n",
    "\n",
    "axes[1].scatter(dist_true, dist_pred, s=1, alpha=0.1)\n",
    "axes[1].set_xlabel('True distance [pc]')\n",
    "axes[1].set_ylabel('Predicted distance [pc]')\n",
    "axes[1].set_xlim(lim_x)\n",
    "axes[1].set_ylim(lim_y)\n",
    "\n",
    "plt.tight_layout()"
   ],
   "id": "12619ec64f2c44f8",
   "execution_count": 24,
   "outputs": []
  },
  {
   "metadata": {
    "ExecuteTime": {
     "end_time": "2024-05-08T16:44:53.697393Z",
     "start_time": "2024-05-08T16:44:53.667610Z"
    }
   },
   "cell_type": "code",
   "source": [
    "# Compute predicted X,Y,Z positions\n",
    "df_val = df.loc[dataset_val.indices]\n",
    "\n",
    "c_gal = SkyCoord(\n",
    "    u=df_val.X_obs.values*u.pc, \n",
    "    v=df_val.Y_obs.values*u.pc, \n",
    "    w=df_val.Z_obs.values * u.pc, \n",
    "    frame='galactic',\n",
    "    representation_type='cartesian'\n",
    ")\n",
    "\n",
    "c_icrs = c_gal.transform_to(ICRS())\n",
    "c_icrs.representation_type = 'spherical'"
   ],
   "id": "9edce36982caf81a",
   "execution_count": 25,
   "outputs": []
  },
  {
   "metadata": {
    "ExecuteTime": {
     "end_time": "2024-05-08T16:44:55.880735Z",
     "start_time": "2024-05-08T16:44:55.871179Z"
    }
   },
   "cell_type": "code",
   "source": [
    "c = SkyCoord(ra=c_icrs.ra.value*u.deg, dec=c_icrs.dec.value*u.deg, distance=dist_pred * u.pc, frame='icrs')\n",
    "c = c.transform_to(Galactic())\n",
    "c.representation_type = 'cartesian'\n",
    "df_val['X_pred'] = c.u.value\n",
    "df_val['Y_pred'] = c.v.value\n",
    "df_val['Z_pred'] = c.w.value"
   ],
   "id": "2a31238435314982",
   "execution_count": 26,
   "outputs": []
  },
  {
   "metadata": {
    "ExecuteTime": {
     "end_time": "2024-05-08T16:57:09.684447Z",
     "start_time": "2024-05-08T16:57:08.485062Z"
    }
   },
   "cell_type": "code",
   "source": [
    "plt.subplots(1, 3, figsize=(15, 5), sharex=False, sharey=True) #, =0.1, wspace=0.1)\n",
    "plt.subplot(1, 3, 1)\n",
    "lim = 1000\n",
    "cmap = 'cool_r'\n",
    "\n",
    "# cut_labels =  df_val.labels!=8\n",
    "df_plt = df_val.copy()\n",
    "\n",
    "# plt.scatter(df_plt.X_obs, df_plt.Y_obs, s=1, alpha=0.05, c='tab:grey') #cmap='viridis')\n",
    "plt.scatter(df_plt.loc[df_plt.labels==-1, 'X_obs'], df_plt.loc[df_plt.labels==-1, 'Y_obs'], s=1, alpha=0.05, c='tab:grey')\n",
    "plt.scatter(df_plt.loc[df_plt.labels!=-1, 'X_obs'], df_plt.loc[df_plt.labels!=-1, 'Y_obs'], s=2, alpha=0.1, cmap=cmap, c=df_plt.loc[df_plt.labels!=-1, 'labels'])\n",
    "\n",
    "plt.xlabel('X [kpc]', fontsize=15)\n",
    "plt.ylabel('Y [kpc]', fontsize=15)\n",
    "plt.tick_params(axis='both', which='both', bottom=True, top=False, left=True, right=False, labelbottom=True, labelleft=True)\n",
    "plt.yticks([-1000, -500, 0, 500, 1000], [-1, -0.5, 0, 0.5, 1], fontsize=13)\n",
    "plt.xticks([-1000, -500, 0, 500, 1000], [-1, -0.5, 0, 0.5, 1], fontsize=13)\n",
    "plt.xlim(-lim, lim)\n",
    "plt.ylim(-lim, lim)\n",
    "plt.title('Observed positions', fontsize=15)\n",
    "\n",
    "plt.subplot(1, 3, 2)\n",
    "plt.scatter(df_plt.loc[df_plt.labels==-1, 'X'], df_plt.loc[df_plt.labels==-1, 'Y'], s=1, alpha=0.05, c='tab:grey')\n",
    "plt.scatter(df_plt.loc[df_plt.labels!=-1, 'X'], df_plt.loc[df_plt.labels!=-1, 'Y'], s=2, alpha=0.1, cmap=cmap, c=df_plt.loc[df_plt.labels!=-1, 'labels'])\n",
    "# plt.scatter(df_val['X'], df_val['Y'], s=2, alpha=0.1, cmap='coolwarm', c=logAge_true)\n",
    "plt.xlabel('X [kpc]', fontsize=15)\n",
    "plt.tick_params(axis='both', which='both', bottom=True, top=False, left=False, right=False, labelbottom=True, labelleft=False)\n",
    "plt.xticks([-1000, -500, 0, 500, 1000], [-1, -0.5, 0, 0.5, 1], fontsize=13)\n",
    "plt.xlim(-lim, lim)\n",
    "plt.ylim(-lim, lim)\n",
    "plt.title('True positions', fontsize=15)\n",
    "\n",
    "plt.subplot(1, 3, 3)\n",
    "# plt.scatter(df_plt.loc[logAge_pred[cut_labels]<7.9, 'X_pred'], df_plt.loc[logAge_pred[cut_labels]<7.9, 'Y_pred'], s=1, alpha=0.05, c='k')\n",
    "\n",
    "cut_bg = (df_plt.labels==-1) & (logAge_pred<7.8)\n",
    "cut_sig = (df_plt.labels!=-1) & (logAge_pred<7.8)\n",
    "\n",
    "plt.scatter(df_plt.loc[cut_bg, 'X_pred'], df_plt.loc[cut_bg, 'Y_pred'], s=1, alpha=0.05, c='tab:grey')\n",
    "plt.scatter(df_plt.loc[cut_sig, 'X_pred'], df_plt.loc[cut_sig, 'Y_pred'], s=2, alpha=0.1, cmap=cmap, c=df_plt.loc[cut_sig, 'labels'])\n",
    "plt.xlabel('X [kpc]', fontsize=15)\n",
    "# Remove ticks\n",
    "plt.tick_params(axis='both', which='both', bottom=True, top=False, left=False, right=False, labelbottom=True, labelleft=False)\n",
    "plt.xticks([-1000, -500, 0, 500, 1000], [-1, -0.5, 0, 0.5, 1], fontsize=13)\n",
    "plt.xlim(-lim, lim)\n",
    "plt.ylim(-lim, lim)\n",
    "plt.title('Predicted positions (age < 60 Myr)', fontsize=15)\n",
    "\n",
    "plt.tight_layout(w_pad=0.1, h_pad=.5)\n",
    "plt.savefig('/Users/ratzenboe/Desktop/figures/observed_vs_true_vs_predicted_new.png', dpi=300)"
   ],
   "id": "dfe07a76c4dd6aaf",
   "execution_count": 38,
   "outputs": []
  },
  {
   "metadata": {
    "ExecuteTime": {
     "end_time": "2024-05-08T17:10:41.520121Z",
     "start_time": "2024-05-08T17:10:41.419571Z"
    }
   },
   "cell_type": "code",
   "source": [
    "x_plt = (dist_true - dist_obs)/(dist_true - dist_pred)\n",
    "plt.scatter(dist_true, x_plt, s=1, alpha=0.1)\n",
    "plt.ylim(-5, 5)\n",
    "plt.axhline(1.12, c='k', ls='--')"
   ],
   "id": "ff8341eb87801387",
   "execution_count": 59,
   "outputs": []
  },
  {
   "metadata": {
    "ExecuteTime": {
     "end_time": "2024-05-08T17:06:30.710577Z",
     "start_time": "2024-05-08T17:06:30.157115Z"
    }
   },
   "cell_type": "code",
   "source": [
    "fig, axes = plt.subplots(1, 2, figsize=(10, 5))\n",
    "lim_x = [0, 1100]\n",
    "lim_y = [0, 1300]\n",
    "\n",
    "cut_labels = df_val.labels > -1\n",
    "\n",
    "axes[0].plot(lim_y, lim_y, c='k', alpha=0.1)\n",
    "axes[0].scatter(dist_true[cut_labels], dist_obs[cut_labels], s=10, alpha=0.1, c=df_val.loc[cut_labels, 'labels'], cmap=cmap)\n",
    "axes[0].set_xlabel('True distance [pc]')\n",
    "axes[0].set_ylabel('Observed distance [pc]')\n",
    "axes[0].set_xlim(lim_x)\n",
    "axes[0].set_ylim(lim_y)\n",
    "\n",
    "axes[1].plot(lim_y, lim_y, c='k', alpha=0.1)\n",
    "axes[1].scatter(dist_true[cut_labels], dist_pred[cut_labels], s=10, alpha=0.1, c=df_val.loc[cut_labels, 'labels'], cmap=cmap)\n",
    "axes[1].set_xlabel('True distance [pc]')\n",
    "axes[1].set_ylabel('Predicted distance [pc]')\n",
    "axes[1].set_xlim(lim_x)\n",
    "axes[1].set_ylim(lim_y)\n",
    "\n",
    "plt.tight_layout()\n",
    "plt.savefig('/Users/ratzenboe/Desktop/figures/distance_comparison.png', dpi=300)"
   ],
   "id": "4511ecab415a2a4c",
   "execution_count": 49,
   "outputs": []
  },
  {
   "metadata": {},
   "cell_type": "code",
   "execution_count": null,
   "source": "",
   "id": "16e6e9ec3ee0b959",
   "outputs": []
  },
  {
   "metadata": {
    "ExecuteTime": {
     "end_time": "2024-05-08T16:52:26.504137Z",
     "start_time": "2024-05-08T16:52:25.875143Z"
    }
   },
   "cell_type": "code",
   "source": [
    "for label_i in np.arange(0, 10):\n",
    "    cut_l_i = (df_val.labels==label_i)\n",
    "    lA_true = 10**df_val.loc[cut_l_i, 'logAge'].median()/1e6\n",
    "    dist_i_pred = dist_pred[cut_l_i]\n",
    "    linAge_i_pred = 10**logAge_pred[cut_l_i]/1e6\n",
    "    \n",
    "    A_V_i = df_val.loc[cut_l_i, 'A_V'].median()\n",
    "    feh_i = df_val.loc[cut_l_i, 'feh'].median()\n",
    "    \n",
    "    plt.scatter(linAge_i_pred, dist_i_pred, label=f'A_V: {A_V_i:.1f} | FeH: {feh_i:.1f}', s=10, alpha=0.5)\n",
    "    plt.axvline(lA_true, c='k', ls='--', lw=1)\n",
    "    plt.axhline(1000/df_val.loc[cut_l_i, 'parallax'].median(), c='k', ls='--', lw=1)\n",
    "    plt.xlabel('Predicted logAge [Myr]')\n",
    "    plt.ylabel('Predicted distance [pc]')\n",
    "    plt.legend()\n",
    "    plt.xlim(0, 80)\n",
    "    plt.ylim(0, 1000)\n",
    "    plt.show()"
   ],
   "id": "e0015669580b787f",
   "execution_count": 33,
   "outputs": []
  },
  {
   "metadata": {
    "ExecuteTime": {
     "end_time": "2024-05-08T16:51:42.037975Z",
     "start_time": "2024-05-08T16:51:42.034331Z"
    }
   },
   "cell_type": "code",
   "source": "A_V_true",
   "id": "5335fc3212f262b3",
   "execution_count": 32,
   "outputs": []
  },
  {
   "metadata": {
    "ExecuteTime": {
     "end_time": "2024-05-08T15:15:01.438372Z",
     "start_time": "2024-05-08T15:15:01.146066Z"
    }
   },
   "cell_type": "code",
   "source": [
    "# Plot posterior samples\n",
    "i = np.arange(df_val.shape[0])[df_val.labels==3][3]\n",
    "corner.corner(post_info[i]['post_samples'].numpy(), labels=features_y, truths=post_info[i]['true'].numpy());"
   ],
   "id": "2d331ae88c9626c",
   "execution_count": 160,
   "outputs": []
  },
  {
   "metadata": {
    "ExecuteTime": {
     "end_time": "2024-05-08T15:05:21.728556Z",
     "start_time": "2024-05-08T15:05:21.722487Z"
    }
   },
   "cell_type": "code",
   "source": [
    "avg_purity = []\n",
    "for label_i in np.arange(-1, 10): \n",
    "    nb_identified = np.sum(df_val.loc[logAge_pred<8, 'labels'] == label_i)\n",
    "    nb_total = np.sum(df_val['labels'] == label_i)\n",
    "    avg_purity.append(nb_identified/nb_total)\n",
    "    print(f'Label {label_i}: {nb_identified} / {nb_total} ({nb_identified/nb_total*100:.2f}%)')"
   ],
   "id": "14639c5e34ed2428",
   "execution_count": 143,
   "outputs": []
  },
  {
   "metadata": {
    "ExecuteTime": {
     "end_time": "2024-05-08T15:05:28.037171Z",
     "start_time": "2024-05-08T15:05:28.034383Z"
    }
   },
   "cell_type": "code",
   "source": "np.median(avg_purity[1:])",
   "id": "77e09976a1f2ba07",
   "execution_count": 144,
   "outputs": []
  },
  {
   "metadata": {},
   "cell_type": "code",
   "execution_count": null,
   "source": "",
   "id": "994d3fa9f2356b2d",
   "outputs": []
  },
  {
   "metadata": {
    "ExecuteTime": {
     "end_time": "2024-05-08T14:23:51.744938Z",
     "start_time": "2024-05-08T14:23:51.389463Z"
    }
   },
   "cell_type": "code",
   "source": [
    "plt.scatter(logAge_true, logAge_pred, s=1, alpha=0.1)\n",
    "plt.xlabel('True logAge')\n",
    "plt.ylabel('Predicted logAge')\n",
    "plt.plot([6, 10], [6, 10], 'k--')"
   ],
   "id": "c91f77b126d9b0e1",
   "execution_count": 51,
   "outputs": []
  },
  {
   "metadata": {},
   "cell_type": "code",
   "execution_count": null,
   "source": "",
   "id": "1cb8f442c2710ce7",
   "outputs": []
  }
 ],
 "metadata": {
  "kernelspec": {
   "display_name": "Python 3",
   "language": "python",
   "name": "python3"
  },
  "language_info": {
   "codemirror_mode": {
    "name": "ipython",
    "version": 2
   },
   "file_extension": ".py",
   "mimetype": "text/x-python",
   "name": "python",
   "nbconvert_exporter": "python",
   "pygments_lexer": "ipython2",
   "version": "2.7.6"
  }
 },
 "nbformat": 4,
 "nbformat_minor": 5
}
