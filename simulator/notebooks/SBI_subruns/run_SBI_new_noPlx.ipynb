{
 "cells": [
  {
   "cell_type": "code",
   "id": "initial_id",
   "metadata": {
    "collapsed": true,
    "ExecuteTime": {
     "end_time": "2024-05-08T17:29:50.205570Z",
     "start_time": "2024-05-08T17:29:50.201410Z"
    }
   },
   "source": [
    "import numpy as np\n",
    "import pandas as pd\n",
    "import matplotlib.pyplot as plt\n",
    "import torch\n",
    "from torch.utils.data import TensorDataset, DataLoader, random_split\n",
    "import sbi.utils as utils\n",
    "from astropy.coordinates import SkyCoord, ICRS, Galactic\n",
    "from astropy import units as u\n",
    "import pickle\n",
    "import corner\n",
    "from sbi import analysis as analysis\n",
    "from sbi.inference.base import infer"
   ],
   "execution_count": 33,
   "outputs": []
  },
  {
   "metadata": {
    "ExecuteTime": {
     "end_time": "2024-05-08T15:30:22.280129Z",
     "start_time": "2024-05-08T15:30:21.439667Z"
    }
   },
   "cell_type": "code",
   "source": [
    "# Load data\n",
    "df = pd.read_csv('/Users/ratzenboe/Library/CloudStorage/Dropbox/work/data/mock_edr3/edr3_mock_field+clusters.csv')"
   ],
   "id": "df74472e191deb7",
   "execution_count": 2,
   "outputs": []
  },
  {
   "metadata": {
    "ExecuteTime": {
     "end_time": "2024-05-08T15:30:22.282564Z",
     "start_time": "2024-05-08T15:30:22.280826Z"
    }
   },
   "cell_type": "code",
   "source": "# df.logAge.hist(bins=100, log=True);",
   "id": "df6e71e50d7b5db0",
   "execution_count": 3,
   "outputs": []
  },
  {
   "metadata": {
    "ExecuteTime": {
     "end_time": "2024-05-08T15:30:24.955512Z",
     "start_time": "2024-05-08T15:30:24.952765Z"
    }
   },
   "cell_type": "code",
   "source": [
    "features_X = [\n",
    "    # 'parallax_obs', \n",
    "    'phot_g_mean_mag_obs', 'phot_bp_mean_mag_obs', 'phot_rp_mean_mag_obs',\n",
    "    'j_obs', 'h_obs', 'k_obs', \n",
    "    'w1_obs', 'w2_obs', 'w3_obs', 'w4_obs',\n",
    "    'irac1_obs', 'irac2_obs', 'irac3_obs', 'irac4_obs', 'mips1_obs', \n",
    "    # Errors\n",
    "    # 'parallax_error',\n",
    "    'phot_g_mean_mag_error', 'phot_bp_mean_mag_error', 'phot_rp_mean_mag_error', \n",
    "    'j_error', 'h_error', 'k_error',\n",
    "    'w1_error', 'w2_error', 'w3_error', 'w4_error',\n",
    "    'irac1_error', 'irac2_error', 'irac3_error', 'irac4_error', 'mips1_error'\n",
    "]\n",
    "\n",
    "features_y = ['parallax', 'logAge', 'A_V', 'feh']"
   ],
   "id": "562f1645a5cbc3fa",
   "execution_count": 4,
   "outputs": []
  },
  {
   "metadata": {
    "ExecuteTime": {
     "end_time": "2024-05-08T15:30:28.428752Z",
     "start_time": "2024-05-08T15:30:28.422343Z"
    }
   },
   "cell_type": "code",
   "source": "df[features_y].min()",
   "id": "842310dc404e88f6",
   "execution_count": 5,
   "outputs": []
  },
  {
   "metadata": {
    "ExecuteTime": {
     "end_time": "2024-05-08T15:30:29.863651Z",
     "start_time": "2024-05-08T15:30:29.842108Z"
    }
   },
   "cell_type": "code",
   "source": [
    "x_orig = torch.tensor(df[features_X].values.astype(np.float32))\n",
    "theta_orig = torch.tensor(df[features_y].values.astype(np.float32))"
   ],
   "id": "2164124b1e43a675",
   "execution_count": 6,
   "outputs": []
  },
  {
   "metadata": {},
   "cell_type": "markdown",
   "source": "# Normalize the data",
   "id": "4c78fd91315159dc"
  },
  {
   "metadata": {
    "ExecuteTime": {
     "end_time": "2024-05-08T15:30:32.780543Z",
     "start_time": "2024-05-08T15:30:32.757305Z"
    }
   },
   "cell_type": "code",
   "source": [
    "x_mean = x_orig.mean(dim=0)\n",
    "x_std = x_orig.std(dim=0)\n",
    "x_samples = (x_orig - x_mean) / x_std\n",
    "\n",
    "theta_mean = theta_orig.mean(dim=0)\n",
    "theta_std = theta_orig.std(dim=0)\n",
    "theta_samples = (theta_orig - theta_mean) / theta_std"
   ],
   "id": "24ae3e1d500e07e9",
   "execution_count": 7,
   "outputs": []
  },
  {
   "metadata": {},
   "cell_type": "markdown",
   "source": "# Train and validation set",
   "id": "60d97c5b9721df85"
  },
  {
   "metadata": {
    "ExecuteTime": {
     "end_time": "2024-05-08T15:30:35.802302Z",
     "start_time": "2024-05-08T15:30:35.796801Z"
    }
   },
   "cell_type": "code",
   "source": [
    "val_fraction = 0.5\n",
    "n_samples_val = int(val_fraction * len(x_samples))\n",
    "\n",
    "dataset = TensorDataset(x_samples, theta_samples)\n",
    "dataset_train, dataset_val = random_split(dataset, [len(x_samples) - n_samples_val, n_samples_val])\n",
    "x_train, theta_train = dataset_train.dataset.tensors\n",
    "x_val, theta_val = dataset_val.dataset.tensors"
   ],
   "id": "e36ad16becfa400d",
   "execution_count": 8,
   "outputs": []
  },
  {
   "metadata": {},
   "cell_type": "markdown",
   "source": "# Define priors",
   "id": "8dafc4db00ccc491"
  },
  {
   "metadata": {
    "ExecuteTime": {
     "end_time": "2024-05-08T15:30:37.103431Z",
     "start_time": "2024-05-08T15:30:37.096760Z"
    }
   },
   "cell_type": "code",
   "source": [
    "theta_mins = torch.tensor(df[features_y].min().values.astype(np.float32))\n",
    "theta_maxs = torch.tensor(df[features_y].max().values.astype(np.float32))\n",
    "# Normalize the mins and maxs\n",
    "theta_mins = (theta_mins - theta_mean) / theta_std\n",
    "theta_maxs = (theta_maxs - theta_mean) / theta_std\n",
    "\n",
    "# Define prior\n",
    "prior = utils.BoxUniform(\n",
    "    low=theta_mins,\n",
    "    high=theta_maxs\n",
    ")"
   ],
   "id": "c864690f4f82e267",
   "execution_count": 9,
   "outputs": []
  },
  {
   "metadata": {
    "ExecuteTime": {
     "end_time": "2024-05-08T15:30:39.601936Z",
     "start_time": "2024-05-08T15:30:38.931438Z"
    }
   },
   "cell_type": "code",
   "source": [
    "from sbi.inference import SNPE\n",
    "# sample parameters theta and observations x\n",
    "inference = SNPE(prior=prior)\n",
    "inference.append_simulations(x=x_train, theta=theta_train)"
   ],
   "id": "9d435d54b23b4240",
   "execution_count": 10,
   "outputs": []
  },
  {
   "metadata": {
    "ExecuteTime": {
     "end_time": "2024-05-08T16:17:18.336091Z",
     "start_time": "2024-05-08T15:30:40.420607Z"
    }
   },
   "cell_type": "code",
   "source": [
    "%%time\n",
    "density_estimator = inference.train()"
   ],
   "id": "8b6010406623e1ec",
   "execution_count": 11,
   "outputs": []
  },
  {
   "metadata": {},
   "cell_type": "markdown",
   "source": "# Build the posterior",
   "id": "1c23e06c389eb355"
  },
  {
   "metadata": {
    "ExecuteTime": {
     "end_time": "2024-05-08T16:33:04.956377Z",
     "start_time": "2024-05-08T16:33:04.945296Z"
    }
   },
   "cell_type": "code",
   "source": "posterior = inference.build_posterior(density_estimator) #, sample_with='mcmc')",
   "id": "9e55ad4765e68f13",
   "execution_count": 12,
   "outputs": []
  },
  {
   "metadata": {
    "ExecuteTime": {
     "end_time": "2024-05-08T16:33:29.758449Z",
     "start_time": "2024-05-08T16:33:29.751490Z"
    }
   },
   "cell_type": "code",
   "source": [
    "# # Save model\n",
    "fname = \"/Users/ratzenboe/Documents/work/code/notebooks/SBI/trained_models/model_new_onlyPhoto.pkl\"\n",
    "with open(fname, \"wb\") as handle:\n",
    "    pickle.dump(posterior, handle)"
   ],
   "id": "1e1f1cd62de1140b",
   "execution_count": 13,
   "outputs": []
  },
  {
   "metadata": {
    "ExecuteTime": {
     "end_time": "2024-05-08T17:16:42.837984Z",
     "start_time": "2024-05-08T16:33:38.164903Z"
    }
   },
   "cell_type": "code",
   "source": [
    "%%time\n",
    "\n",
    "post_info = {}\n",
    "\n",
    "i = 0\n",
    "# i_max = 50_000\n",
    "for x_val, theta_val in dataset_val:\n",
    "    posterior_samples = posterior.sample((1_000,), x=x_val, show_progress_bars=False)\n",
    "    plx_post, logAge_post, A_V_post, feh_post = (posterior_samples * theta_std + theta_mean).numpy().T\n",
    "    plx_true, logAge_true, A_V_true, feh_true = (theta_val * theta_std + theta_mean).numpy().T\n",
    "\n",
    "    post_info[i] = {\n",
    "        'post_samples': posterior_samples * theta_std + theta_mean,\n",
    "        'true': theta_val * theta_std + theta_mean,\n",
    "        'plx_post': plx_post,\n",
    "        'plx_true': plx_true,\n",
    "        'logAge_post': logAge_post,\n",
    "        'logAge_true': logAge_true,\n",
    "        'A_V_post': A_V_post,\n",
    "        'A_V_true': A_V_true,\n",
    "        'feh_post': feh_post,\n",
    "        'feh_true': feh_true\n",
    "    }\n",
    "    i+=1\n",
    "\n",
    "    # if i >= i_max:\n",
    "    #     break"
   ],
   "id": "8525eed79d1a5f1b",
   "execution_count": 14,
   "outputs": []
  },
  {
   "metadata": {
    "ExecuteTime": {
     "end_time": "2024-05-08T17:24:34.667005Z",
     "start_time": "2024-05-08T17:24:24.661932Z"
    }
   },
   "cell_type": "code",
   "source": [
    "with open(\"/Users/ratzenboe/Documents/work/code/notebooks/SBI/trained_models/validation_est_onlyPhot_infos_NEWclusters.pkl\", \"wb\") as handle:\n",
    "    pickle.dump(post_info, handle)"
   ],
   "id": "266626d0acd02b65",
   "execution_count": 15,
   "outputs": []
  },
  {
   "metadata": {
    "ExecuteTime": {
     "end_time": "2024-05-08T13:59:22.692170Z",
     "start_time": "2024-05-08T13:59:22.688483Z"
    }
   },
   "cell_type": "code",
   "source": "import corner",
   "id": "4b751f6f9c4c6df5",
   "execution_count": 17,
   "outputs": []
  },
  {
   "metadata": {
    "ExecuteTime": {
     "end_time": "2024-05-08T17:24:36.084843Z",
     "start_time": "2024-05-08T17:24:36.083187Z"
    }
   },
   "cell_type": "code",
   "source": [
    "# # Plot posterior samples\n",
    "# i = 50\n",
    "# corner.corner(post_info[i]['post_samples'].numpy(), labels=features_y, truths=post_info[i]['true'].numpy());"
   ],
   "id": "aca3b27bc9cf8abb",
   "execution_count": 16,
   "outputs": []
  },
  {
   "metadata": {
    "ExecuteTime": {
     "end_time": "2024-05-08T17:24:42.289266Z",
     "start_time": "2024-05-08T17:24:37.511124Z"
    }
   },
   "cell_type": "code",
   "source": [
    "dist_pred = np.array([np.median(1000/pi['plx_post']) for pi in post_info.values()])\n",
    "dist_true = np.array([1000/pi['plx_true'] for pi in post_info.values()])\n",
    "dist_obs = 1000/df.loc[dataset_val.indices, 'parallax_obs'].values\n",
    "\n",
    "logAge_pred = np.array([np.median(pi['logAge_post']) for pi in post_info.values()])\n",
    "logAge_true = np.array([pi['logAge_true'] for pi in post_info.values()])"
   ],
   "id": "2b3c424e611312e3",
   "execution_count": 17,
   "outputs": []
  },
  {
   "metadata": {
    "ExecuteTime": {
     "end_time": "2024-05-08T17:24:43.157248Z",
     "start_time": "2024-05-08T17:24:42.929866Z"
    }
   },
   "cell_type": "code",
   "source": [
    "fig, axes = plt.subplots(1, 2, figsize=(10, 5))\n",
    "lim_x = [0, 1100]\n",
    "lim_y = [0, 1500]\n",
    "\n",
    "axes[0].scatter(dist_true, dist_obs, s=1, alpha=0.1)\n",
    "axes[0].set_xlabel('True distance [pc]')\n",
    "axes[0].set_ylabel('Observed distance [pc]')\n",
    "axes[0].set_xlim(lim_x)\n",
    "axes[0].set_ylim(lim_y)\n",
    "\n",
    "axes[1].scatter(dist_true, dist_pred, s=1, alpha=0.1)\n",
    "axes[1].set_xlabel('True distance [pc]')\n",
    "axes[1].set_ylabel('Predicted distance [pc]')\n",
    "axes[1].set_xlim(lim_x)\n",
    "axes[1].set_ylim(lim_y)\n",
    "\n",
    "plt.tight_layout()"
   ],
   "id": "12619ec64f2c44f8",
   "execution_count": 18,
   "outputs": []
  },
  {
   "metadata": {
    "ExecuteTime": {
     "end_time": "2024-05-08T17:24:46.754449Z",
     "start_time": "2024-05-08T17:24:46.726463Z"
    }
   },
   "cell_type": "code",
   "source": [
    "# Compute predicted X,Y,Z positions\n",
    "df_val = df.loc[dataset_val.indices]\n",
    "\n",
    "c_gal = SkyCoord(\n",
    "    u=df_val.X_obs.values*u.pc, \n",
    "    v=df_val.Y_obs.values*u.pc, \n",
    "    w=df_val.Z_obs.values * u.pc, \n",
    "    frame='galactic',\n",
    "    representation_type='cartesian'\n",
    ")\n",
    "\n",
    "c_icrs = c_gal.transform_to(ICRS())\n",
    "c_icrs.representation_type = 'spherical'"
   ],
   "id": "9edce36982caf81a",
   "execution_count": 19,
   "outputs": []
  },
  {
   "metadata": {
    "ExecuteTime": {
     "end_time": "2024-05-08T17:24:48.758427Z",
     "start_time": "2024-05-08T17:24:48.747745Z"
    }
   },
   "cell_type": "code",
   "source": [
    "c = SkyCoord(ra=c_icrs.ra.value*u.deg, dec=c_icrs.dec.value*u.deg, distance=dist_pred * u.pc, frame='icrs')\n",
    "c = c.transform_to(Galactic())\n",
    "c.representation_type = 'cartesian'\n",
    "df_val['X_pred'] = c.u.value\n",
    "df_val['Y_pred'] = c.v.value\n",
    "df_val['Z_pred'] = c.w.value"
   ],
   "id": "2a31238435314982",
   "execution_count": 20,
   "outputs": []
  },
  {
   "metadata": {
    "ExecuteTime": {
     "end_time": "2024-05-08T18:14:45.494853Z",
     "start_time": "2024-05-08T18:14:44.430690Z"
    }
   },
   "cell_type": "code",
   "source": [
    "plt.subplots(1, 3, figsize=(15, 5), sharex=False, sharey=True) #, =0.1, wspace=0.1)\n",
    "plt.subplot(1, 3, 1)\n",
    "lim = 1000\n",
    "cmap = 'cool_r'\n",
    "\n",
    "# cut_labels =  df_val.labels!=8\n",
    "df_plt = df_val.copy()\n",
    "\n",
    "# plt.scatter(df_plt.X_obs, df_plt.Y_obs, s=1, alpha=0.05, c='tab:grey') #cmap='viridis')\n",
    "plt.scatter(df_plt.loc[df_plt.labels==-1, 'X_obs'], df_plt.loc[df_plt.labels==-1, 'Y_obs'], s=1, alpha=0.05, c='tab:grey')\n",
    "plt.scatter(df_plt.loc[df_plt.labels!=-1, 'X_obs'], df_plt.loc[df_plt.labels!=-1, 'Y_obs'], s=2, alpha=0.1, cmap=cmap, c=df_plt.loc[df_plt.labels!=-1, 'labels'])\n",
    "\n",
    "plt.xlabel('X [kpc]', fontsize=15)\n",
    "plt.ylabel('Y [kpc]', fontsize=15)\n",
    "plt.tick_params(axis='both', which='both', bottom=True, top=False, left=True, right=False, labelbottom=True, labelleft=True)\n",
    "plt.yticks([-1000, -500, 0, 500, 1000], [-1, -0.5, 0, 0.5, 1], fontsize=13)\n",
    "plt.xticks([-1000, -500, 0, 500, 1000], [-1, -0.5, 0, 0.5, 1], fontsize=13)\n",
    "plt.xlim(-lim, lim)\n",
    "plt.ylim(-lim, lim)\n",
    "plt.title('Observed positions', fontsize=15)\n",
    "\n",
    "plt.subplot(1, 3, 2)\n",
    "plt.scatter(df_plt.loc[df_plt.labels==-1, 'X'], df_plt.loc[df_plt.labels==-1, 'Y'], s=1, alpha=0.05, c='tab:grey')\n",
    "plt.scatter(df_plt.loc[df_plt.labels!=-1, 'X'], df_plt.loc[df_plt.labels!=-1, 'Y'], s=2, alpha=0.1, cmap=cmap, c=df_plt.loc[df_plt.labels!=-1, 'labels'])\n",
    "# plt.scatter(df_val['X'], df_val['Y'], s=2, alpha=0.1, cmap='coolwarm', c=logAge_true)\n",
    "plt.xlabel('X [kpc]', fontsize=15)\n",
    "plt.tick_params(axis='both', which='both', bottom=True, top=False, left=False, right=False, labelbottom=True, labelleft=False)\n",
    "plt.xticks([-1000, -500, 0, 500, 1000], [-1, -0.5, 0, 0.5, 1], fontsize=13)\n",
    "plt.xlim(-lim, lim)\n",
    "plt.ylim(-lim, lim)\n",
    "plt.title('True positions', fontsize=15)\n",
    "\n",
    "plt.subplot(1, 3, 3)\n",
    "# plt.scatter(df_plt.loc[logAge_pred[cut_labels]<7.9, 'X_pred'], df_plt.loc[logAge_pred[cut_labels]<7.9, 'Y_pred'], s=1, alpha=0.05, c='k')\n",
    "\n",
    "th_age = 70\n",
    "cut_bg = (df_plt.labels==-1) & (logAge_pred<np.log10(th_age*1e6))\n",
    "cut_sig = (df_plt.labels!=-1) & (logAge_pred<np.log10(th_age*1e6))\n",
    "\n",
    "plt.scatter(df_plt.loc[cut_bg, 'X_pred'], df_plt.loc[cut_bg, 'Y_pred'], s=1, alpha=0.05, c='tab:grey')\n",
    "plt.scatter(df_plt.loc[cut_sig, 'X_pred'], df_plt.loc[cut_sig, 'Y_pred'], s=2, alpha=0.1, cmap=cmap, c=df_plt.loc[cut_sig, 'labels'])\n",
    "plt.xlabel('X [kpc]', fontsize=15)\n",
    "# Remove ticks\n",
    "plt.tick_params(axis='both', which='both', bottom=True, top=False, left=False, right=False, labelbottom=True, labelleft=False)\n",
    "plt.xticks([-1000, -500, 0, 500, 1000], [-1, -0.5, 0, 0.5, 1], fontsize=13)\n",
    "plt.xlim(-lim, lim)\n",
    "plt.ylim(-lim, lim)\n",
    "plt.title('Predicted positions (age < 60 Myr)', fontsize=15)\n",
    "\n",
    "plt.tight_layout(w_pad=0.1, h_pad=.5)\n",
    "plt.savefig('/Users/ratzenboe/Desktop/figures/observed_vs_true_vs_predicted_onlyPhoto_newClusters.png', dpi=300)"
   ],
   "id": "dfe07a76c4dd6aaf",
   "execution_count": 60,
   "outputs": []
  },
  {
   "metadata": {
    "ExecuteTime": {
     "end_time": "2024-05-08T18:10:25.959862Z",
     "start_time": "2024-05-08T18:10:25.474307Z"
    }
   },
   "cell_type": "code",
   "source": [
    "fig, axes = plt.subplots(1, 2, figsize=(10, 5))\n",
    "lim_x = [0, 1100]\n",
    "lim_y = [0, 1300]\n",
    "\n",
    "cut_labels = df_val.labels > -1\n",
    "\n",
    "axes[0].plot(lim_y, lim_y, c='k', alpha=0.1)\n",
    "axes[0].scatter(dist_true[cut_labels], dist_obs[cut_labels], s=10, alpha=0.1, c=df_val.loc[cut_labels, 'labels'], cmap=cmap)\n",
    "axes[0].set_xlabel('True distance [pc]')\n",
    "axes[0].set_ylabel('Observed distance [pc]')\n",
    "axes[0].set_xlim(lim_x)\n",
    "axes[0].set_ylim(lim_y)\n",
    "\n",
    "axes[1].plot(lim_y, lim_y, c='k', alpha=0.1)\n",
    "axes[1].scatter(dist_true[cut_labels], dist_pred[cut_labels], s=10, alpha=0.1, c=df_val.loc[cut_labels, 'labels'], cmap=cmap)\n",
    "axes[1].set_xlabel('True distance [pc]')\n",
    "axes[1].set_ylabel('Predicted distance [pc]')\n",
    "axes[1].set_xlim(lim_x)\n",
    "axes[1].set_ylim(lim_y)\n",
    "\n",
    "plt.tight_layout()\n",
    "plt.savefig('/Users/ratzenboe/Desktop/figures/distance_comparison_onlyPhoto.png', dpi=300)"
   ],
   "id": "a3bb7ca10ec711c5",
   "execution_count": 59,
   "outputs": []
  },
  {
   "metadata": {
    "ExecuteTime": {
     "end_time": "2024-05-08T18:08:33.242036Z",
     "start_time": "2024-05-08T18:08:32.694873Z"
    }
   },
   "cell_type": "code",
   "source": [
    "for label_i in np.arange(0, 10):\n",
    "    cut_l_i = (df_val.labels==label_i)\n",
    "    lA_true = 10**df_val.loc[cut_l_i, 'logAge'].median()/1e6\n",
    "    dist_i_pred = dist_pred[cut_l_i]\n",
    "    linAge_i_pred = 10**logAge_pred[cut_l_i]/1e6,\n",
    "    plt.scatter(linAge_i_pred, dist_i_pred, label=f'Label {label_i}', s=10)\n",
    "    plt.axvline(lA_true, c='k', ls='--', lw=1)\n",
    "    plt.axhline(1000/df_val.loc[cut_l_i, 'parallax'].median(), c='k', ls='--', lw=1)\n",
    "    plt.xlabel('Predicted logAge [Myr]')\n",
    "    plt.ylabel('Predicted distance [pc]')\n",
    "    plt.legend()\n",
    "    plt.xlim(0, 80)\n",
    "    plt.ylim(0, 1000)\n",
    "    plt.show()"
   ],
   "id": "4fef1c7f1ac1ac09",
   "execution_count": 58,
   "outputs": []
  },
  {
   "metadata": {
    "ExecuteTime": {
     "end_time": "2024-05-08T21:13:25.299092Z",
     "start_time": "2024-05-08T21:13:25.295833Z"
    }
   },
   "cell_type": "code",
   "source": "df_val['M_G'] = df_val['phot_g_mean_mag_obs'] - 5*np.log10(1e3/df_val['parallax_obs']) + 5",
   "id": "fc700610a9b8d197",
   "execution_count": 65,
   "outputs": []
  },
  {
   "metadata": {
    "ExecuteTime": {
     "end_time": "2024-05-08T21:32:59.712775Z",
     "start_time": "2024-05-08T21:32:58.956547Z"
    }
   },
   "cell_type": "code",
   "source": [
    "for label_i in np.arange(0, 10):\n",
    "    cut_l_i = (df_val.labels==label_i)\n",
    "    lA_true = 10**df_val.loc[cut_l_i, 'logAge'].median()/1e6\n",
    "    linAge_i_pred = 10**logAge_pred[cut_l_i]/1e6\n",
    "    \n",
    "    \n",
    "    plt.scatter(\n",
    "        df_val.phot_bp_mean_mag_obs[cut_l_i] - df_val.phot_rp_mean_mag_obs[cut_l_i], df_val.M_G[cut_l_i],\n",
    "        c=linAge_i_pred, label=f'Label {label_i} | age: {lA_true:.1f}', s=10, vmin=0, vmax=80\n",
    "    )\n",
    "    plt.legend(frameon=False)\n",
    "    plt.xlabel('BP-RP')\n",
    "    plt.ylabel('M_G')\n",
    "    plt.colorbar(label='Predicted logAge [Myr]')\n",
    "    plt.gca().invert_yaxis()\n",
    "    plt.show()"
   ],
   "id": "9de73bae7f167143",
   "execution_count": 72,
   "outputs": []
  },
  {
   "metadata": {},
   "cell_type": "markdown",
   "source": "# Estimate completeness and purity",
   "id": "15c51d65f8d0dcb4"
  },
  {
   "metadata": {
    "ExecuteTime": {
     "end_time": "2024-05-08T21:42:14.401181Z",
     "start_time": "2024-05-08T21:42:14.354099Z"
    }
   },
   "cell_type": "code",
   "source": [
    "fname_new_clusters = '/Users/ratzenboe/Library/CloudStorage/Dropbox/work/data/mock_edr3/simulated_clusters_new.csv'\n",
    "df_new_clusters = pd.read_csv(fname_new_clusters)"
   ],
   "id": "c41f5d5d3a68b535",
   "execution_count": 73,
   "outputs": []
  },
  {
   "metadata": {
    "ExecuteTime": {
     "end_time": "2024-05-08T21:46:57.805116Z",
     "start_time": "2024-05-08T21:46:57.800029Z"
    }
   },
   "cell_type": "code",
   "source": [
    "x_test = torch.tensor(df_new_clusters[features_X].values.astype(np.float32))\n",
    "theta_test = torch.tensor(df_new_clusters[features_y].values.astype(np.float32))\n",
    "\n",
    "x_test = (x_test - x_mean) / x_std\n",
    "theta_test = (theta_test - theta_mean) / theta_std\n",
    "\n",
    "dataset_test = TensorDataset(x_test, theta_test)"
   ],
   "id": "c03c59495bb9f8d9",
   "execution_count": 76,
   "outputs": []
  },
  {
   "metadata": {
    "jupyter": {
     "is_executing": true
    },
    "ExecuteTime": {
     "start_time": "2024-05-08T21:48:08.947488Z"
    }
   },
   "cell_type": "code",
   "source": [
    "# Predict the posterior\n",
    "post_info_new = {}\n",
    "\n",
    "i = 0\n",
    "# i_max = 50_000\n",
    "for x_test, theta_test in dataset_test:\n",
    "    posterior_samples = posterior.sample((1_000,), x=x_test, show_progress_bars=False)\n",
    "    plx_post, logAge_post, A_V_post, feh_post = (posterior_samples * theta_std + theta_mean).numpy().T\n",
    "    plx_true, logAge_true, A_V_true, feh_true = (theta_val * theta_std + theta_mean).numpy().T\n",
    "\n",
    "    post_info_new[i] = {\n",
    "        'post_samples': posterior_samples * theta_std + theta_mean,\n",
    "        'true': theta_val * theta_std + theta_mean,\n",
    "        'plx_post': plx_post,\n",
    "        'plx_true': plx_true,\n",
    "        'logAge_post': logAge_post,\n",
    "        'logAge_true': logAge_true,\n",
    "        'A_V_post': A_V_post,\n",
    "        'A_V_true': A_V_true,\n",
    "        'feh_post': feh_post,\n",
    "        'feh_true': feh_true\n",
    "    }\n",
    "    i+=1"
   ],
   "id": "a34f8c4d208975f",
   "execution_count": null,
   "outputs": []
  },
  {
   "metadata": {},
   "cell_type": "code",
   "execution_count": null,
   "source": "",
   "id": "3fcc3345e604c68e",
   "outputs": []
  },
  {
   "metadata": {},
   "cell_type": "code",
   "execution_count": null,
   "source": "",
   "id": "121207f57ae54527",
   "outputs": []
  },
  {
   "metadata": {},
   "cell_type": "code",
   "execution_count": null,
   "source": "",
   "id": "cec00ddfe568e7d9",
   "outputs": []
  },
  {
   "metadata": {},
   "cell_type": "code",
   "execution_count": null,
   "source": "",
   "id": "db765a02702fce61",
   "outputs": []
  },
  {
   "metadata": {},
   "cell_type": "code",
   "execution_count": null,
   "source": "",
   "id": "e99200ccea5ea22e",
   "outputs": []
  },
  {
   "metadata": {},
   "cell_type": "code",
   "execution_count": null,
   "source": "",
   "id": "fad05f5bcb4d661e",
   "outputs": []
  },
  {
   "metadata": {},
   "cell_type": "code",
   "execution_count": null,
   "source": "",
   "id": "56f3d3dd1c37ce93",
   "outputs": []
  },
  {
   "metadata": {
    "ExecuteTime": {
     "end_time": "2024-05-08T17:29:57.858578Z",
     "start_time": "2024-05-08T17:29:57.775735Z"
    }
   },
   "cell_type": "code",
   "source": [
    "for label_i in np.arange(0, 10):\n",
    "    cut_l_i = (df_val.labels==label_i)\n",
    "    lA_true = 10**df_val.loc[cut_l_i, 'logAge'].median()/1e6\n",
    "    plt.hist(10**logAge_pred[cut_l_i]/1e6, bins=np.linspace(0, 100, 100), histtype='step', label=f'Label {label_i}', lw=2)\n",
    "    plt.axvline(lA_true, c='k', ls='--', lw=1)\n",
    "    plt.xlim(0, 100)"
   ],
   "id": "e0015669580b787f",
   "execution_count": 35,
   "outputs": []
  },
  {
   "metadata": {
    "ExecuteTime": {
     "end_time": "2024-05-08T17:34:16.165882Z",
     "start_time": "2024-05-08T17:34:16.163080Z"
    }
   },
   "cell_type": "code",
   "source": [
    "post_i = post_info[i]['post_samples'].numpy()\n",
    "true_i = post_info[i]['true'].numpy()\n",
    "\n",
    "post_i[:, 0] = 1000/post_i[:, 0]\n",
    "post_i[:, 1] = 10**post_i[:, 1]/1e6\n",
    "\n",
    "true_i[0] = 1000/true_i[0]\n",
    "true_i[1] = 10**true_i[1]/1e6"
   ],
   "id": "a3c08658fd3efc4",
   "execution_count": 49,
   "outputs": []
  },
  {
   "metadata": {
    "ExecuteTime": {
     "end_time": "2024-05-08T17:35:40.582672Z",
     "start_time": "2024-05-08T17:35:40.580109Z"
    }
   },
   "cell_type": "code",
   "source": "post_info[i]['post_samples'].numpy()",
   "id": "11c3dbefd6296c8d",
   "execution_count": 56,
   "outputs": []
  },
  {
   "metadata": {
    "ExecuteTime": {
     "end_time": "2024-05-08T17:35:35.619549Z",
     "start_time": "2024-05-08T17:35:35.617227Z"
    }
   },
   "cell_type": "code",
   "source": "post_info[i]['true'].numpy()",
   "id": "360e6da15b609ed1",
   "execution_count": 55,
   "outputs": []
  },
  {
   "metadata": {},
   "cell_type": "code",
   "execution_count": null,
   "source": "",
   "id": "256f0181e2047ebe",
   "outputs": []
  },
  {
   "metadata": {
    "ExecuteTime": {
     "end_time": "2024-05-08T17:35:18.086601Z",
     "start_time": "2024-05-08T17:35:17.419501Z"
    }
   },
   "cell_type": "code",
   "source": [
    "# Plot posterior samples\n",
    "i = np.arange(df_val.shape[0])[df_val.labels==3][44]\n",
    "post_i = post_info[i]['post_samples'].numpy()\n",
    "corner.corner(\n",
    "    post_info[i]['post_samples'].numpy(), labels=features_y, truths=post_info[i]['true'].numpy(), \n",
    "    # range=[(0, 100), (0, 10), (0, 10), (-2.5, 0.5)]    \n",
    ");"
   ],
   "id": "2d331ae88c9626c",
   "execution_count": 54,
   "outputs": []
  },
  {
   "metadata": {
    "ExecuteTime": {
     "end_time": "2024-05-08T15:05:21.728556Z",
     "start_time": "2024-05-08T15:05:21.722487Z"
    }
   },
   "cell_type": "code",
   "source": [
    "avg_purity = []\n",
    "for label_i in np.arange(-1, 10): \n",
    "    nb_identified = np.sum(df_val.loc[logAge_pred<8, 'labels'] == label_i)\n",
    "    nb_total = np.sum(df_val['labels'] == label_i)\n",
    "    avg_purity.append(nb_identified/nb_total)\n",
    "    print(f'Label {label_i}: {nb_identified} / {nb_total} ({nb_identified/nb_total*100:.2f}%)')"
   ],
   "id": "14639c5e34ed2428",
   "execution_count": 143,
   "outputs": []
  },
  {
   "metadata": {
    "ExecuteTime": {
     "end_time": "2024-05-08T15:05:28.037171Z",
     "start_time": "2024-05-08T15:05:28.034383Z"
    }
   },
   "cell_type": "code",
   "source": "np.median(avg_purity[1:])",
   "id": "77e09976a1f2ba07",
   "execution_count": 144,
   "outputs": []
  },
  {
   "metadata": {},
   "cell_type": "code",
   "execution_count": null,
   "source": "",
   "id": "994d3fa9f2356b2d",
   "outputs": []
  },
  {
   "metadata": {
    "ExecuteTime": {
     "end_time": "2024-05-08T14:23:51.744938Z",
     "start_time": "2024-05-08T14:23:51.389463Z"
    }
   },
   "cell_type": "code",
   "source": [
    "plt.scatter(logAge_true, logAge_pred, s=1, alpha=0.1)\n",
    "plt.xlabel('True logAge')\n",
    "plt.ylabel('Predicted logAge')\n",
    "plt.plot([6, 10], [6, 10], 'k--')"
   ],
   "id": "c91f77b126d9b0e1",
   "execution_count": 51,
   "outputs": []
  },
  {
   "metadata": {},
   "cell_type": "code",
   "execution_count": null,
   "source": "",
   "id": "1cb8f442c2710ce7",
   "outputs": []
  }
 ],
 "metadata": {
  "kernelspec": {
   "display_name": "Python 3",
   "language": "python",
   "name": "python3"
  },
  "language_info": {
   "codemirror_mode": {
    "name": "ipython",
    "version": 2
   },
   "file_extension": ".py",
   "mimetype": "text/x-python",
   "name": "python",
   "nbconvert_exporter": "python",
   "pygments_lexer": "ipython2",
   "version": "2.7.6"
  }
 },
 "nbformat": 4,
 "nbformat_minor": 5
}
