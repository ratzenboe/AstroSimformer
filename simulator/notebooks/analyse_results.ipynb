{
 "cells": [
  {
   "cell_type": "code",
   "id": "initial_id",
   "metadata": {
    "collapsed": true,
    "ExecuteTime": {
     "end_time": "2024-05-11T20:36:49.062650Z",
     "start_time": "2024-05-11T20:36:47.776153Z"
    }
   },
   "source": [
    "import numpy as np\n",
    "import pandas as pd\n",
    "import matplotlib.pyplot as plt\n",
    "import pickle\n",
    "import torch\n",
    "from astropy.coordinates import SkyCoord, ICRS, Galactic\n",
    "from astropy import units as u"
   ],
   "outputs": [],
   "execution_count": 1
  },
  {
   "metadata": {
    "ExecuteTime": {
     "end_time": "2024-05-11T20:36:49.065203Z",
     "start_time": "2024-05-11T20:36:49.063534Z"
    }
   },
   "cell_type": "code",
   "source": [
    "def mode_reals(array, bins=50):\n",
    "    counts, bin_edges = np.histogram(array, bins=bins)\n",
    "    # Take left edges as approximation for bin midpoint\n",
    "    bins_left_edges = bin_edges[:-1]\n",
    "    return bins_left_edges[np.argmax(counts)]"
   ],
   "id": "9964821999c7220c",
   "outputs": [],
   "execution_count": 2
  },
  {
   "metadata": {
    "ExecuteTime": {
     "end_time": "2024-05-09T18:41:21.171318Z",
     "start_time": "2024-05-09T18:41:21.000746Z"
    }
   },
   "cell_type": "code",
   "source": [
    "fin_folder = '/Users/ratzenboe/Documents/work/code/notebooks/SBI/posterior_samples_validation/'\n",
    "fname = '500clExp_allInfos_Sagitta_like'\n",
    "with open(fin_folder + fname, \"rb\") as handle:\n",
    "    samples = pickle.load(handle)"
   ],
   "id": "2f7f5bf0711d8d7",
   "execution_count": 3,
   "outputs": []
  },
  {
   "metadata": {
    "ExecuteTime": {
     "end_time": "2024-05-09T18:41:22.140439Z",
     "start_time": "2024-05-09T18:41:22.138300Z"
    }
   },
   "cell_type": "code",
   "source": "df_val = samples['validation_set']",
   "id": "83bef348608601cd",
   "execution_count": 4,
   "outputs": []
  },
  {
   "metadata": {
    "ExecuteTime": {
     "end_time": "2024-05-09T18:41:22.967511Z",
     "start_time": "2024-05-09T18:41:22.964171Z"
    }
   },
   "cell_type": "code",
   "source": "max_int = np.max([k for k in samples.keys() if isinstance(k, int)]) + 1",
   "id": "49d1edcd72ca4749",
   "execution_count": 5,
   "outputs": []
  },
  {
   "metadata": {
    "ExecuteTime": {
     "end_time": "2024-05-09T18:42:07.085161Z",
     "start_time": "2024-05-09T18:42:07.046537Z"
    }
   },
   "cell_type": "code",
   "source": [
    "f_summary = np.mean\n",
    "\n",
    "dist_pred = np.array([f_summary(1000/samples[i]['plx_post']) for i in np.arange(max_int)])\n",
    "dist_true = np.array([1000/samples[i]['plx_true'] for i in np.arange(max_int)])\n",
    "dist_obs = 1000/df_val['parallax_obs'].values\n",
    "\n",
    "logAge_pred = np.array([f_summary(samples[i]['logAge_post']) for i in np.arange(max_int)])\n",
    "logAge_true = np.array([samples[i]['logAge_true'] for i in np.arange(max_int)])\n",
    "\n",
    "feh_pred = np.array([f_summary(samples[i]['feh_post']) for i in np.arange(max_int)])\n",
    "A_V_pred = np.array([f_summary(samples[i]['A_V_post']) for i in np.arange(max_int)])"
   ],
   "id": "dffe16b296660d1b",
   "execution_count": 11,
   "outputs": []
  },
  {
   "metadata": {},
   "cell_type": "markdown",
   "source": "# Prepare plots",
   "id": "69d588aea9eaf101"
  },
  {
   "metadata": {
    "ExecuteTime": {
     "end_time": "2024-05-09T18:42:07.856089Z",
     "start_time": "2024-05-09T18:42:07.850115Z"
    }
   },
   "cell_type": "code",
   "source": [
    "# Compute predicted X,Y,Z positions\n",
    "c_gal = SkyCoord(\n",
    "    u=df_val.X_obs.values*u.pc, \n",
    "    v=df_val.Y_obs.values*u.pc, \n",
    "    w=df_val.Z_obs.values * u.pc, \n",
    "    frame='galactic',\n",
    "    representation_type='cartesian'\n",
    ")\n",
    "\n",
    "c_icrs = c_gal.transform_to(ICRS())\n",
    "c_icrs.representation_type = 'spherical'"
   ],
   "id": "c8da5d6b0c327f16",
   "execution_count": 12,
   "outputs": []
  },
  {
   "metadata": {
    "ExecuteTime": {
     "end_time": "2024-05-09T18:42:08.319897Z",
     "start_time": "2024-05-09T18:42:08.316067Z"
    }
   },
   "cell_type": "code",
   "source": [
    "c = SkyCoord(ra=c_icrs.ra.value*u.deg, dec=c_icrs.dec.value*u.deg, distance=dist_pred * u.pc, frame='icrs')\n",
    "c = c.transform_to(Galactic())\n",
    "c.representation_type = 'cartesian'\n",
    "df_val['X_pred'] = c.u.value\n",
    "df_val['Y_pred'] = c.v.value\n",
    "df_val['Z_pred'] = c.w.value"
   ],
   "id": "e97d850f2209baa1",
   "execution_count": 13,
   "outputs": []
  },
  {
   "metadata": {
    "ExecuteTime": {
     "end_time": "2024-05-09T18:42:08.826242Z",
     "start_time": "2024-05-09T18:42:08.640164Z"
    }
   },
   "cell_type": "code",
   "source": [
    "plt.subplots(1, 3, figsize=(15, 5), sharex=False, sharey=True) #, =0.1, wspace=0.1)\n",
    "plt.subplot(1, 3, 1)\n",
    "lim = 1000\n",
    "\n",
    "cut_labels =  df_val.labels!=8\n",
    "df_plt = df_val.loc[cut_labels]\n",
    "\n",
    "# plt.scatter(df_plt.X_obs, df_plt.Y_obs, s=1, alpha=0.05, c='tab:grey') #cmap='viridis')\n",
    "plt.scatter(df_plt.loc[df_plt.labels==-1, 'X_obs'], df_plt.loc[df_plt.labels==-1, 'Y_obs'], s=1, alpha=0.05, c='tab:grey')\n",
    "plt.scatter(df_plt.loc[df_plt.labels!=-1, 'X_obs'], df_plt.loc[df_plt.labels!=-1, 'Y_obs'], s=2, alpha=0.1, cmap='tab10', c=df_plt.loc[df_plt.labels!=-1, 'labels'])\n",
    "\n",
    "plt.xlabel('X [kpc]', fontsize=15)\n",
    "plt.ylabel('Y [kpc]', fontsize=15)\n",
    "plt.tick_params(axis='both', which='both', bottom=True, top=False, left=True, right=False, labelbottom=True, labelleft=True)\n",
    "plt.yticks([-1000, -500, 0, 500, 1000], [-1, -0.5, 0, 0.5, 1], fontsize=13)\n",
    "plt.xticks([-1000, -500, 0, 500, 1000], [-1, -0.5, 0, 0.5, 1], fontsize=13)\n",
    "plt.xlim(-lim, lim)\n",
    "plt.ylim(-lim, lim)\n",
    "plt.title('Observed positions', fontsize=15)\n",
    "\n",
    "plt.subplot(1, 3, 2)\n",
    "plt.scatter(df_plt.loc[df_plt.labels==-1, 'X'], df_plt.loc[df_plt.labels==-1, 'Y'], s=1, alpha=0.05, c='tab:grey')\n",
    "plt.scatter(df_plt.loc[df_plt.labels!=-1, 'X'], df_plt.loc[df_plt.labels!=-1, 'Y'], s=2, alpha=0.1, cmap='tab10', c=df_plt.loc[df_plt.labels!=-1, 'labels'])\n",
    "# plt.scatter(df_val['X'], df_val['Y'], s=2, alpha=0.1, cmap='coolwarm', c=logAge_true)\n",
    "plt.xlabel('X [kpc]', fontsize=15)\n",
    "plt.tick_params(axis='both', which='both', bottom=True, top=False, left=False, right=False, labelbottom=True, labelleft=False)\n",
    "plt.xticks([-1000, -500, 0, 500, 1000], [-1, -0.5, 0, 0.5, 1], fontsize=13)\n",
    "plt.xlim(-lim, lim)\n",
    "plt.ylim(-lim, lim)\n",
    "plt.title('True positions', fontsize=15)\n",
    "\n",
    "plt.subplot(1, 3, 3)\n",
    "th = 8.\n",
    "cut_bg = (df_plt.labels==-1) & (logAge_pred[cut_labels]<th) & (df_val.logAge < th)\n",
    "cut_sig = (df_plt.labels!=-1) & (logAge_pred[cut_labels]<th) & (df_val.logAge < th)\n",
    "\n",
    "\n",
    "plt.scatter(df_plt.loc[cut_bg, 'X_pred'], df_plt.loc[cut_bg, 'Y_pred'], s=1, alpha=0.05, c='tab:grey')\n",
    "plt.scatter(df_plt.loc[cut_sig, 'X_pred'], df_plt.loc[cut_sig, 'Y_pred'], s=2, alpha=0.1, cmap='tab10', c=df_plt.loc[cut_sig, 'labels'])\n",
    "\n",
    "# plt.scatter(df_plt.loc[logAge_pred[cut_labels]<7.9, 'X_pred'], df_plt.loc[logAge_pred[cut_labels]<7.9, 'Y_pred'], s=1, alpha=0.05, c='k')\n",
    "\n",
    "plt.xlabel('X [kpc]', fontsize=15)\n",
    "# Remove ticks\n",
    "plt.tick_params(axis='both', which='both', bottom=True, top=False, left=False, right=False, labelbottom=True, labelleft=False)\n",
    "plt.xticks([-1000, -500, 0, 500, 1000], [-1, -0.5, 0, 0.5, 1], fontsize=13)\n",
    "plt.xlim(-lim, lim)\n",
    "plt.ylim(-lim, lim)\n",
    "plt.title(f'Predicted positions (age < {10**th/1e6:.0f} Myr)', fontsize=15)\n",
    "\n",
    "plt.tight_layout(w_pad=0.1, h_pad=.5)\n",
    "# plt.savefig('/Users/ratzenboe/Desktop/figures/observed_vs_true_vs_predicted_noPlx_100clusters.png', dpi=300)"
   ],
   "id": "a7aae1d8aa557b6d",
   "execution_count": 14,
   "outputs": []
  },
  {
   "metadata": {
    "ExecuteTime": {
     "end_time": "2024-05-09T18:42:10.563128Z",
     "start_time": "2024-05-09T18:42:10.445601Z"
    }
   },
   "cell_type": "code",
   "source": [
    "fig, axes = plt.subplots(1, 2, figsize=(10, 5))\n",
    "lim_x = [0, 1100]\n",
    "lim_y = [0, 1200]\n",
    "\n",
    "cut_labels = (df_val.logAge<7.8) & (df_val.labels > -1)\n",
    "\n",
    "axes[0].scatter(dist_true[cut_labels], dist_obs[cut_labels], s=10, alpha=0.1)\n",
    "axes[0].set_xlabel('True distance [pc]')\n",
    "axes[0].set_ylabel('Observed distance [pc]')\n",
    "axes[0].set_xlim(lim_x)\n",
    "axes[0].set_ylim(lim_y)\n",
    "\n",
    "axes[1].scatter(dist_true[cut_labels], dist_pred[cut_labels], s=10, alpha=0.1)\n",
    "axes[1].set_xlabel('True distance [pc]')\n",
    "axes[1].set_ylabel('Predicted distance [pc]')\n",
    "axes[1].set_xlim(lim_x)\n",
    "axes[1].set_ylim(lim_y)\n",
    "\n",
    "plt.tight_layout()"
   ],
   "id": "930a8280219698ad",
   "execution_count": 15,
   "outputs": []
  },
  {
   "metadata": {
    "ExecuteTime": {
     "end_time": "2024-05-09T18:42:13.032140Z",
     "start_time": "2024-05-09T18:42:12.970023Z"
    }
   },
   "cell_type": "code",
   "source": [
    "plt.scatter(df_val.loc[cut_labels, 'feh'].values, dist_true[cut_labels] - dist_obs[cut_labels], s=5, alpha=0.01)\n",
    "plt.ylim(-300, 300)\n",
    "plt.axhline(0)"
   ],
   "id": "d57ce9a47711760d",
   "execution_count": 16,
   "outputs": []
  },
  {
   "metadata": {
    "ExecuteTime": {
     "end_time": "2024-05-09T18:43:47.223239Z",
     "start_time": "2024-05-09T18:43:47.102087Z"
    }
   },
   "cell_type": "code",
   "source": [
    "fig, axes = plt.subplots(1, 2, figsize=(10, 5))\n",
    "lim_x = [0, 1100]\n",
    "lim_y = [0, 1500]\n",
    "\n",
    "axes[0].scatter(dist_true, dist_obs, s=1, alpha=0.1)\n",
    "axes[0].set_xlabel('True distance [pc]')\n",
    "axes[0].set_ylabel('Observed distance [pc]')\n",
    "axes[0].set_xlim(lim_x)\n",
    "axes[0].set_ylim(lim_y)\n",
    "\n",
    "axes[1].scatter(dist_true, dist_pred, s=1, alpha=0.1)\n",
    "axes[1].set_xlabel('True distance [pc]')\n",
    "axes[1].set_ylabel('Predicted distance [pc]')\n",
    "axes[1].set_xlim(lim_x)\n",
    "axes[1].set_ylim(lim_y)\n",
    "\n",
    "plt.tight_layout()"
   ],
   "id": "c03038674e0933b1",
   "execution_count": 17,
   "outputs": []
  },
  {
   "metadata": {},
   "cell_type": "code",
   "execution_count": null,
   "source": "",
   "id": "423c61d2c683d4e2",
   "outputs": []
  }
 ],
 "metadata": {
  "kernelspec": {
   "display_name": "Python 3",
   "language": "python",
   "name": "python3"
  },
  "language_info": {
   "codemirror_mode": {
    "name": "ipython",
    "version": 2
   },
   "file_extension": ".py",
   "mimetype": "text/x-python",
   "name": "python",
   "nbconvert_exporter": "python",
   "pygments_lexer": "ipython2",
   "version": "2.7.6"
  }
 },
 "nbformat": 4,
 "nbformat_minor": 5
}
