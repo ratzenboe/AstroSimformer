{
 "cells": [
  {
   "cell_type": "code",
   "id": "initial_id",
   "metadata": {
    "collapsed": true,
    "ExecuteTime": {
     "end_time": "2024-05-14T15:42:58.707046Z",
     "start_time": "2024-05-14T15:42:57.562388Z"
    }
   },
   "source": [
    "import numpy as np\n",
    "import pandas as pd\n",
    "import matplotlib.pyplot as plt\n",
    "import pickle\n",
    "import torch\n",
    "from tqdm import tqdm"
   ],
   "execution_count": 1,
   "outputs": []
  },
  {
   "metadata": {},
   "cell_type": "markdown",
   "source": "# Load the data",
   "id": "5e18038ce0ecc0e"
  },
  {
   "metadata": {
    "ExecuteTime": {
     "end_time": "2024-05-14T15:42:58.887818Z",
     "start_time": "2024-05-14T15:42:58.708154Z"
    }
   },
   "cell_type": "code",
   "source": [
    "# fname_in = '/Users/ratzenboe/Library/CloudStorage/Dropbox/work/data/mock_edr3/edr3_mock_field_UNSEEN_clusters_TEST_sagitta_sagitta.csv'\n",
    "fname_in = '/Users/ratzenboe/Library/CloudStorage/Dropbox/work/data/mock_edr3/edr3_mock_field_UNSEEN_clusters_TEST.csv'\n",
    "df = pd.read_csv(fname_in)"
   ],
   "id": "a8c2f4ac93187bce",
   "execution_count": 2,
   "outputs": []
  },
  {
   "metadata": {
    "ExecuteTime": {
     "end_time": "2024-05-14T15:43:09.104886Z",
     "start_time": "2024-05-14T15:43:09.092267Z"
    }
   },
   "cell_type": "code",
   "source": "df.train_val_samples.sum()",
   "id": "d1c9c5477ba9a81",
   "execution_count": 3,
   "outputs": []
  },
  {
   "metadata": {
    "ExecuteTime": {
     "end_time": "2024-05-13T16:20:10.234477Z",
     "start_time": "2024-05-13T16:20:10.231243Z"
    }
   },
   "cell_type": "code",
   "source": "df_test = df.loc[df.test_samples]",
   "id": "39ea4699df112af0",
   "execution_count": 34,
   "outputs": []
  },
  {
   "metadata": {},
   "cell_type": "markdown",
   "source": "# Sample from posterior over multiple models",
   "id": "a0152e0ff7cff89e"
  },
  {
   "metadata": {
    "ExecuteTime": {
     "end_time": "2024-05-13T16:12:31.715081Z",
     "start_time": "2024-05-13T16:12:31.713045Z"
    }
   },
   "cell_type": "code",
   "source": [
    "fin_folder = '/Users/ratzenboe/Documents/work/code/notebooks/SBI/trained_models/'\n",
    "# fin_folder = \n",
    "fout_folder = '/Users/ratzenboe/Library/CloudStorage/Dropbox/work/data/posterior_samples/test_posterior_samples/'\n",
    "\n",
    "model_names = [\n",
    "    # 'X_allFeatures__y_parallax_logAge', \n",
    "    'X_SEDonly__y_parallax_logAge', \n",
    "    # 'X_Sagitta__y_parallax_logAge'\n",
    "]"
   ],
   "id": "6a49b8e534fca14a",
   "execution_count": 20,
   "outputs": []
  },
  {
   "metadata": {
    "ExecuteTime": {
     "end_time": "2024-05-13T16:15:35.769510Z",
     "start_time": "2024-05-13T16:12:34.364435Z"
    }
   },
   "cell_type": "code",
   "source": [
    "n_samples = 500\n",
    "\n",
    "for features_str in model_names:\n",
    "    # Load posterior\n",
    "    with open(fin_folder + f\"posterior_{features_str}.pkl\", \"rb\") as handle:\n",
    "        posterior = pickle.load(handle)\n",
    "    # Load scale factors\n",
    "    with open(fin_folder + f\"scale_factors_{features_str}.pkl\", \"rb\") as handle:\n",
    "        scale_factors = pickle.load(handle)\n",
    "    # Load feature names\n",
    "    with open(fin_folder + f'features_{features_str}.pkl', 'rb') as handle:\n",
    "        features_X_y = pickle.load(handle)\n",
    "    \n",
    "    # ----- Prepare the data -----\n",
    "    x_samples = torch.tensor(df.loc[df.test_samples, features_X_y['X']].values.astype(np.float32))\n",
    "    theta_samples = torch.tensor(df.loc[df.test_samples, features_X_y['y']].values.astype(np.float32))\n",
    "    # Scale the data\n",
    "    x_test = (x_samples - scale_factors['x_mean']) / scale_factors['x_std']\n",
    "    theta_test = (theta_samples - scale_factors['theta_mean']) / scale_factors['theta_std']\n",
    "    # ----- Sample from the posterior -----\n",
    "    print(f\"Sampling from posterior for model: {features_str}\")\n",
    "    idx_subset = np.arange(x_test.shape[0])  # [:n_samples]\n",
    "    post_info = {}\n",
    "    for idx_i in tqdm(idx_subset):\n",
    "        posterior_samples = posterior.sample((n_samples,), x=x_test[idx_i], show_progress_bars=False)\n",
    "        # plx_post, logAge_post, A_V_post, feh_post = (\n",
    "        plx_post, logAge_post = (\n",
    "                posterior_samples * scale_factors['theta_std'] + scale_factors['theta_mean']).numpy().T\n",
    "        # plx_true, logAge_true, A_V_true, feh_true = (\n",
    "        plx_true, logAge_true = (\n",
    "                theta_test[idx_i] * scale_factors['theta_std'] + scale_factors['theta_mean']).numpy().T\n",
    "    \n",
    "        post_info[idx_i] = {\n",
    "            # 'post_samples': posterior_samples * scale_factors['theta_std'] + scale_factors['theta_mean'],\n",
    "            # 'true': theta_test[idx_i] * scale_factors['theta_std'] + scale_factors['theta_mean'],\n",
    "            'plx_post': plx_post,\n",
    "            'plx_true': plx_true,\n",
    "            'logAge_post': logAge_post,\n",
    "            'logAge_true': logAge_true,\n",
    "            # 'A_V_post': A_V_post,\n",
    "            # 'A_V_true': A_V_true,\n",
    "            # 'feh_post': feh_post,\n",
    "            # 'feh_true': feh_true\n",
    "        }\n",
    "\n",
    "    with open(fout_folder + f\"posterior_samples_test_{features_str}.pkl\", \"wb\") as handle:\n",
    "        pickle.dump(post_info, handle, protocol=pickle.HIGHEST_PROTOCOL)"
   ],
   "id": "cc256835f0ae9a47",
   "execution_count": 21,
   "outputs": []
  },
  {
   "metadata": {},
   "cell_type": "markdown",
   "source": "# Quick results plot",
   "id": "70da1ded337412c3"
  },
  {
   "metadata": {
    "ExecuteTime": {
     "end_time": "2024-05-13T16:17:15.242485Z",
     "start_time": "2024-05-13T16:17:15.142966Z"
    }
   },
   "cell_type": "code",
   "source": [
    "# Load the data\n",
    "features_str = model_names[0] #'X_allFeatures__y_parallax_logAge'\n",
    "with open(fout_folder + f\"posterior_samples_test_{features_str}.pkl\", \"rb\") as handle:\n",
    "    post_info = pickle.load(handle)\n",
    "    \n",
    "print(features_str)"
   ],
   "id": "a566b025befdae71",
   "execution_count": 22,
   "outputs": []
  },
  {
   "metadata": {
    "ExecuteTime": {
     "end_time": "2024-05-13T16:17:17.383400Z",
     "start_time": "2024-05-13T16:17:17.379739Z"
    }
   },
   "cell_type": "code",
   "source": "fout_folder + f\"posterior_samples_test_{features_str}.pkl\"",
   "id": "63472774b5574a66",
   "execution_count": 23,
   "outputs": []
  },
  {
   "metadata": {
    "ExecuteTime": {
     "end_time": "2024-05-13T16:17:18.885738Z",
     "start_time": "2024-05-13T16:17:18.882798Z"
    }
   },
   "cell_type": "code",
   "source": [
    "def mode_reals(array, bins=150):\n",
    "    counts, bin_edges = np.histogram(array, bins=bins)\n",
    "    # Take left edges as approximation for bin midpoint\n",
    "    bins_left_edges = bin_edges[:-1]\n",
    "    return bins_left_edges[np.argmax(counts)]"
   ],
   "id": "92923cbbd69db070",
   "execution_count": 24,
   "outputs": []
  },
  {
   "metadata": {
    "ExecuteTime": {
     "end_time": "2024-05-13T16:24:08.148159Z",
     "start_time": "2024-05-13T16:24:06.132712Z"
    }
   },
   "cell_type": "code",
   "source": [
    "f_summary = mode_reals\n",
    "\n",
    "dist_pred = np.array([f_summary(1000/post_info[i]['plx_post']) for i in df.loc[df.test_samples].id.values])\n",
    "dist_true = np.array([1000/post_info[i]['plx_true'] for i in df.loc[df.test_samples].id.values])\n",
    "dist_obs = 1000/df.loc[df.test_samples, 'parallax_obs'].values\n",
    "\n",
    "logAge_pred = np.array([f_summary(post_info[i]['logAge_post']) for i in df.loc[df.test_samples].id.values])\n",
    "logAge_true = np.array([post_info[i]['logAge_true'] for i in df.loc[df.test_samples].id.values])\n",
    "\n",
    "# feh_pred = np.array([f_summary(post_info[i]['feh_post']) for i in np.arange(max_int)])\n",
    "# A_V_pred = np.array([f_summary(post_info[i]['A_V_post']) for i in np.arange(max_int)])"
   ],
   "id": "115a13e1b2e1d2c2",
   "execution_count": 46,
   "outputs": []
  },
  {
   "metadata": {
    "ExecuteTime": {
     "end_time": "2024-05-13T16:24:08.551883Z",
     "start_time": "2024-05-13T16:24:08.549252Z"
    }
   },
   "cell_type": "code",
   "source": [
    "# plt.hist(df.loc[df.train_val_samples, 'logAge'], bins=50, alpha=0.5, log=True)\n",
    "# plt.hist(df.loc[df.test_samples, 'logAge'], bins=50, alpha=0.5, log=True)"
   ],
   "id": "e6a03d96a2b6fc07",
   "execution_count": 47,
   "outputs": []
  },
  {
   "metadata": {
    "ExecuteTime": {
     "end_time": "2024-05-13T16:24:08.792249Z",
     "start_time": "2024-05-13T16:24:08.724742Z"
    }
   },
   "cell_type": "code",
   "source": [
    "# plt.scatter(10**logAge_true/1e6, 10**logAge_pred/1e6, s=1, alpha=0.1) #, c=df_test.is_binary_true) #, c=df_val.labels==21)\n",
    "plt.scatter(logAge_true, logAge_pred, s=1, alpha=0.1)\n",
    "\n",
    "plt.xlabel('True logAge')\n",
    "plt.ylabel('Predicted logAge')\n",
    "min_age, max_age = 6.0, 10\n",
    "plt.plot([min_age, max_age], [min_age, max_age], color='k')\n",
    "plt.xlim(min_age, max_age)\n",
    "plt.ylim(min_age, max_age)\n",
    "# plt.axhline(6.8)\n",
    "plt.show()\n",
    "\n",
    "# plt.hist(logAge_true - logAge_pred, bins=np.linspace(-1, 1, 100))\n",
    "# plt.xlabel('True - predicted logAge')\n",
    "# plt.ylabel('Predicted logAge')\n",
    "# plt.show()"
   ],
   "id": "74aa7fcd66bc27c3",
   "execution_count": 48,
   "outputs": []
  },
  {
   "metadata": {
    "ExecuteTime": {
     "end_time": "2024-05-13T16:24:13.578271Z",
     "start_time": "2024-05-13T16:24:13.494281Z"
    }
   },
   "cell_type": "code",
   "source": [
    "delta_logAge_lim = -5, 5  # limits should be -4, 4 for the test cases (for a full comparison with Sagitta)\n",
    "cut_age = logAge_true < 8.\n",
    "\n",
    "plt.hist(logAge_true[cut_age] - logAge_pred[cut_age], bins=np.linspace(*delta_logAge_lim, 100), log=False)\n",
    "plt.xlabel('True - predicted logAge')\n",
    "plt.ylabel('Counts')\n",
    "plt.axvline(0, color='k', ls='--', lw=0.5)\n",
    "plt.show()"
   ],
   "id": "b8999dede180e8db",
   "execution_count": 49,
   "outputs": []
  },
  {
   "metadata": {
    "ExecuteTime": {
     "end_time": "2024-05-13T16:24:14.557617Z",
     "start_time": "2024-05-13T16:24:14.490303Z"
    }
   },
   "cell_type": "code",
   "source": [
    "plt.scatter(dist_true, dist_pred, s=1, alpha=0.05) #, c=df_val.labels==21)\n",
    "plt.plot([0, 1000], [0, 1000], color='k', lw=0.5)"
   ],
   "id": "78a4ce0edad314f4",
   "execution_count": 50,
   "outputs": []
  },
  {
   "metadata": {
    "ExecuteTime": {
     "end_time": "2024-05-13T16:25:35.543320Z",
     "start_time": "2024-05-13T16:25:35.469940Z"
    }
   },
   "cell_type": "code",
   "source": [
    "err_band_3s_kwargs = dict(alpha=0.1, color='k')\n",
    "err_band_1s_kwargs = dict(alpha=0.2, color='k')\n",
    "\n",
    "# snr = df_test['parallax_obs'] / df_test['parallax_error']\n",
    "# snr = df_test['phot_g_mean_mag_obs'] / df_test['phot_g_mean_mag_error']\n",
    "\n",
    "bin_width = 0.1\n",
    "# bins = np.arange(snr_plx.min(), snr_plx.max(), bin_width)\n",
    "n_bins = 25\n",
    "bins = np.linspace(snr.min(), snr.max()/2, n_bins)\n",
    "la_diffs_lo_1s = []\n",
    "la_diffs_hi_1s = []\n",
    "la_diffs_lo_2s = []\n",
    "la_diffs_hi_2s = []\n",
    "bin_x = []\n",
    "bin_medians = []\n",
    "for i, bin in enumerate(bins[:-1]):\n",
    "    cut_bin = (snr > bin) & (snr <= bins[i+1])\n",
    "    if np.sum(cut_bin) == 0:\n",
    "        continue\n",
    "    lo_2s, lo_1s, med, hi_1s, hi_2s = np.percentile(\n",
    "        abs(logAge_pred[cut_bin] - logAge_true[cut_bin]),   \n",
    "        [50-95.4/2, 16, 50, 84, 50+95.4/2]\n",
    "    )\n",
    "    bin_medians.append(med)\n",
    "    la_diffs_lo_1s.append(lo_1s)\n",
    "    la_diffs_hi_1s.append(hi_1s)\n",
    "    la_diffs_lo_2s.append(lo_2s)\n",
    "    la_diffs_hi_2s.append(hi_2s)\n",
    "    bin_x.append(bin + bin_width/2)\n",
    "        \n",
    "bin_medians = np.array(bin_medians)\n",
    "plt.fill_between(bin_x, la_diffs_lo_1s, la_diffs_hi_1s, **err_band_1s_kwargs)\n",
    "plt.fill_between(bin_x, la_diffs_lo_2s, la_diffs_hi_2s, **err_band_3s_kwargs)\n",
    "plt.plot(bin_x, bin_medians, color='tab:red', lw=1)\n",
    "\n",
    "plt.xlabel('SNR Gaia G-band')\n",
    "plt.ylabel('logAge abs error')\n",
    "# plt.savefig('/Users/ratzenboe/Desktop/figures/Fig-SNR-vs-Sagitta.png', dpi=300, bbox_inches='tight')"
   ],
   "id": "7fe3a1c5e49c9a63",
   "execution_count": 53,
   "outputs": []
  },
  {
   "metadata": {
    "ExecuteTime": {
     "end_time": "2024-05-12T17:20:53.316794Z",
     "start_time": "2024-05-12T17:20:53.314342Z"
    }
   },
   "cell_type": "code",
   "source": [
    "# plt.scatter(df_val.feh, feh_pred, s=5, alpha=0.1)\n",
    "# plt.xlim(-1, 0.5)\n",
    "# plt.ylim(-1, 0.5)\n",
    "# plt.plot([-1, 0.5], [-1, 0.5], color='k')"
   ],
   "id": "d041f75cc874ac31",
   "execution_count": 20,
   "outputs": []
  },
  {
   "metadata": {
    "ExecuteTime": {
     "end_time": "2024-05-10T13:18:55.086476Z",
     "start_time": "2024-05-10T13:18:55.083960Z"
    }
   },
   "cell_type": "code",
   "source": [
    "# plt.scatter(df_val.A_V, A_V_pred, s=5, alpha=0.1)\n",
    "# plt.xlim(-0.1, 4)\n",
    "# plt.ylim(-0.1, 4)\n",
    "# plt.plot([-0.1, 4], [-0.1, 4], color='k')"
   ],
   "id": "53f92d4bb2643aac",
   "execution_count": 83,
   "outputs": []
  },
  {
   "metadata": {
    "ExecuteTime": {
     "end_time": "2024-05-10T13:18:56.943130Z",
     "start_time": "2024-05-10T13:18:56.941470Z"
    }
   },
   "cell_type": "code",
   "source": "# plt.hist(df_val.A_V - A_V_pred, bins=100, range=(-0.3, 0.3), log=True)",
   "id": "6232638b15a04e6b",
   "execution_count": 84,
   "outputs": []
  },
  {
   "metadata": {},
   "cell_type": "code",
   "execution_count": null,
   "source": "",
   "id": "c1d21dec33d7afc2",
   "outputs": []
  }
 ],
 "metadata": {
  "kernelspec": {
   "display_name": "Python 3",
   "language": "python",
   "name": "python3"
  },
  "language_info": {
   "codemirror_mode": {
    "name": "ipython",
    "version": 2
   },
   "file_extension": ".py",
   "mimetype": "text/x-python",
   "name": "python",
   "nbconvert_exporter": "python",
   "pygments_lexer": "ipython2",
   "version": "2.7.6"
  }
 },
 "nbformat": 4,
 "nbformat_minor": 5
}
