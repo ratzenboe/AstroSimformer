{
 "cells": [
  {
   "cell_type": "code",
   "id": "initial_id",
   "metadata": {
    "collapsed": true,
    "ExecuteTime": {
     "end_time": "2024-05-11T15:04:55.349074Z",
     "start_time": "2024-05-11T15:04:55.036512Z"
    }
   },
   "source": [
    "import numpy as np\n",
    "import math\n",
    "import matplotlib.pyplot as plt"
   ],
   "execution_count": 2,
   "outputs": []
  },
  {
   "metadata": {
    "ExecuteTime": {
     "end_time": "2024-05-11T16:34:21.323493Z",
     "start_time": "2024-05-11T16:34:21.316987Z"
    }
   },
   "cell_type": "code",
   "source": [
    "import math\n",
    "\n",
    "def two_sided_sigmoid(x, x_midpoint_left, x_midpoint_right, left_width, right_width):\n",
    "    \"\"\"\n",
    "    Calculate the value of a two-sided sigmoid function at a given point.\n",
    "\n",
    "    Parameters:\n",
    "        x (float): The input value.\n",
    "        x_midpoint_left (float): The midpoint of the left transition region.\n",
    "        x_midpoint_right (float): The midpoint of the right transition region.\n",
    "        left_width (float): The width of the left transition region.\n",
    "        right_width (float): The width of the right transition region.\n",
    "\n",
    "    Returns:\n",
    "        float: The value of the two-sided sigmoid function at x.\n",
    "    \"\"\"\n",
    "    left_sigmoid = 1 / (1 + np.exp(-1/left_width * (x - x_midpoint_left)))\n",
    "    right_sigmoid = 1 / (1 + np.exp(-1/right_width * (x - x_midpoint_right)))\n",
    "    return np.abs(left_sigmoid - right_sigmoid)\n",
    "\n",
    "# Example usage:\n",
    "x_values = np.linspace(-5, 20, 300)\n",
    "zero_bright = -2\n",
    "one_bright = 0\n",
    "transition_bright = (zero_bright + one_bright) / 2 \n",
    "\n",
    "zero_faint = 18.\n",
    "one_faint = 15.8\n",
    "transition_faint = (zero_faint + one_faint) / 2\n",
    "\n",
    "# y_values = [two_sided_sigmoid(x, 1, th_faint + pl, 1, 0.1) for x in x_values]  # Example usage of the function\n",
    "y_values = [two_sided_sigmoid(x, transition_bright, transition_faint, 0.2, 0.2) for x in x_values]  # Example usage of the function\n",
    "# y_values = [two_sided_sigmoid(x, 3.0, 16.9, 0.2, 0.2) for x in x_values] \n",
    "transition_bright, transition_faint"
   ],
   "id": "a3f9700dfe65d92c",
   "execution_count": 69,
   "outputs": []
  },
  {
   "metadata": {
    "ExecuteTime": {
     "end_time": "2024-05-11T16:34:21.975391Z",
     "start_time": "2024-05-11T16:34:21.906898Z"
    }
   },
   "cell_type": "code",
   "source": [
    "plt.plot(x_values, y_values)\n",
    "\n",
    "plt.axvline(zero_bright, color='r')\n",
    "plt.axvline(one_bright, color='r')\n",
    "\n",
    "plt.axvline(zero_faint, color='k')\n",
    "plt.axvline(one_faint, color='k')"
   ],
   "id": "5137e08464e9036f",
   "execution_count": 70,
   "outputs": []
  },
  {
   "metadata": {},
   "cell_type": "code",
   "execution_count": null,
   "source": "",
   "id": "57c12ebd29398951",
   "outputs": []
  }
 ],
 "metadata": {
  "kernelspec": {
   "display_name": "Python 3",
   "language": "python",
   "name": "python3"
  },
  "language_info": {
   "codemirror_mode": {
    "name": "ipython",
    "version": 2
   },
   "file_extension": ".py",
   "mimetype": "text/x-python",
   "name": "python",
   "nbconvert_exporter": "python",
   "pygments_lexer": "ipython2",
   "version": "2.7.6"
  }
 },
 "nbformat": 4,
 "nbformat_minor": 5
}
