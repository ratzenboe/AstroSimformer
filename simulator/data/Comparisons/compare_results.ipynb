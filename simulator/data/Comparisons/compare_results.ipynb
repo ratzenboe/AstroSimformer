{
 "cells": [
  {
   "cell_type": "code",
   "id": "initial_id",
   "metadata": {
    "collapsed": true,
    "ExecuteTime": {
     "end_time": "2024-05-10T14:30:03.679916Z",
     "start_time": "2024-05-10T14:30:03.677801Z"
    }
   },
   "source": [
    "import numpy as np\n",
    "import pandas as pd\n",
    "import matplotlib.pyplot as plt\n",
    "import pickle\n",
    "from astropy.coordinates import SkyCoord, ICRS, Galactic\n",
    "from astropy import units as u\n",
    "import corner\n",
    "import pymc as pm"
   ],
   "execution_count": 168,
   "outputs": []
  },
  {
   "metadata": {
    "ExecuteTime": {
     "end_time": "2024-05-10T13:43:12.790236Z",
     "start_time": "2024-05-10T13:43:12.788337Z"
    }
   },
   "cell_type": "code",
   "source": [
    "def mode_reals(array, bins=50):\n",
    "    counts, bin_edges = np.histogram(array, bins=bins)\n",
    "    # Take left edges as approximation for bin midpoint\n",
    "    bins_left_edges = bin_edges[:-1]\n",
    "    return bins_left_edges[np.argmax(counts)]"
   ],
   "id": "40b9d46ab35a0294",
   "execution_count": 2,
   "outputs": []
  },
  {
   "metadata": {},
   "cell_type": "markdown",
   "source": "# Load SBI posterior samples",
   "id": "3d876cba2f6441df"
  },
  {
   "metadata": {
    "ExecuteTime": {
     "end_time": "2024-05-10T13:43:15.404191Z",
     "start_time": "2024-05-10T13:43:13.703617Z"
    }
   },
   "cell_type": "code",
   "source": [
    "fin_folder = '/Users/ratzenboe/Documents/work/code/notebooks/SBI/posterior_samples_validation/'\n",
    "fname = '500clExp_allInfos_Sagitta_like_unseen_clusters.pkl'\n",
    "with open(fin_folder + fname, \"rb\") as handle:\n",
    "    samples = pickle.load(handle)"
   ],
   "id": "8c704fa7c5201748",
   "execution_count": 3,
   "outputs": []
  },
  {
   "metadata": {
    "ExecuteTime": {
     "end_time": "2024-05-10T13:43:15.409781Z",
     "start_time": "2024-05-10T13:43:15.408071Z"
    }
   },
   "cell_type": "code",
   "source": "df_val = samples['validation_set']",
   "id": "10830a034b45c831",
   "execution_count": 4,
   "outputs": []
  },
  {
   "metadata": {
    "ExecuteTime": {
     "end_time": "2024-05-10T13:43:15.414274Z",
     "start_time": "2024-05-10T13:43:15.410457Z"
    }
   },
   "cell_type": "code",
   "source": "max_int = np.max([k for k in samples.keys() if isinstance(k, int)]) + 1",
   "id": "afa436682e3f9ed1",
   "execution_count": 5,
   "outputs": []
  },
  {
   "metadata": {
    "ExecuteTime": {
     "end_time": "2024-05-10T13:43:18.711774Z",
     "start_time": "2024-05-10T13:43:17.707066Z"
    }
   },
   "cell_type": "code",
   "source": [
    "f_summary = np.median\n",
    "\n",
    "dist_pred = np.array([f_summary(1000/samples[i]['plx_post']) for i in np.arange(max_int)])\n",
    "dist_true = np.array([1000/samples[i]['plx_true'] for i in np.arange(max_int)])\n",
    "dist_obs = 1000/df_val['parallax_obs'].values\n",
    "\n",
    "logAge_pred = np.array([f_summary(samples[i]['logAge_post']) for i in np.arange(max_int)])\n",
    "logAge_true = np.array([samples[i]['logAge_true'] for i in np.arange(max_int)])\n",
    "\n",
    "feh_pred = np.array([f_summary(samples[i]['feh_post']) for i in np.arange(max_int)])\n",
    "A_V_pred = np.array([f_summary(samples[i]['A_V_post']) for i in np.arange(max_int)])"
   ],
   "id": "550c4f9b68a79816",
   "execution_count": 6,
   "outputs": []
  },
  {
   "metadata": {},
   "cell_type": "markdown",
   "source": "# Load Sagitta estimates",
   "id": "56de47549551a508"
  },
  {
   "metadata": {
    "ExecuteTime": {
     "end_time": "2024-05-10T13:44:00.095814Z",
     "start_time": "2024-05-10T13:44:00.093236Z"
    }
   },
   "cell_type": "code",
   "source": [
    "age_pred_sagitta = np.load('age_sagitta_median.npy')\n",
    "age_pred_sagitta_std = np.load('age_sagitta_std.npy')"
   ],
   "id": "5b846b43698ba402",
   "execution_count": 7,
   "outputs": []
  },
  {
   "metadata": {},
   "cell_type": "markdown",
   "source": "# Prepare data",
   "id": "e98323db5b6e999"
  },
  {
   "metadata": {
    "ExecuteTime": {
     "end_time": "2024-05-10T13:44:01.932001Z",
     "start_time": "2024-05-10T13:44:01.927915Z"
    }
   },
   "cell_type": "code",
   "source": [
    "# Compute predicted X,Y,Z positions\n",
    "c_gal = SkyCoord(\n",
    "    u=df_val.X_obs.values*u.pc, \n",
    "    v=df_val.Y_obs.values*u.pc, \n",
    "    w=df_val.Z_obs.values * u.pc, \n",
    "    frame='galactic',\n",
    "    representation_type='cartesian'\n",
    ")\n",
    "\n",
    "c_icrs = c_gal.transform_to(ICRS())\n",
    "c_icrs.representation_type = 'spherical'"
   ],
   "id": "a1bc92550c890d2c",
   "execution_count": 8,
   "outputs": []
  },
  {
   "metadata": {
    "ExecuteTime": {
     "end_time": "2024-05-10T13:44:03.155704Z",
     "start_time": "2024-05-10T13:44:03.150621Z"
    }
   },
   "cell_type": "code",
   "source": [
    "c = SkyCoord(ra=c_icrs.ra.value*u.deg, dec=c_icrs.dec.value*u.deg, distance=dist_pred * u.pc, frame='icrs')\n",
    "c = c.transform_to(Galactic())\n",
    "c.representation_type = 'cartesian'\n",
    "df_val['X_pred'] = c.u.value\n",
    "df_val['Y_pred'] = c.v.value\n",
    "df_val['Z_pred'] = c.w.value"
   ],
   "id": "5789c012d3224565",
   "execution_count": 9,
   "outputs": []
  },
  {
   "metadata": {},
   "cell_type": "markdown",
   "source": "# Plot comparison in XY plane ",
   "id": "4209d58948f6a2dc"
  },
  {
   "metadata": {
    "ExecuteTime": {
     "end_time": "2024-05-10T13:44:06.163873Z",
     "start_time": "2024-05-10T13:44:06.154412Z"
    }
   },
   "cell_type": "code",
   "source": [
    "# Construct coolwarm color map with transition at given threshold\n",
    "import matplotlib\n",
    "\n",
    "def shiftedColorMap(cmap, start=0, midpoint=0.5, stop=1.0, name='shiftedcmap'):\n",
    "    '''\n",
    "    Function to offset the \"center\" of a colormap. Useful for\n",
    "    data with a negative min and positive max and you want the\n",
    "    middle of the colormap's dynamic range to be at zero.\n",
    "\n",
    "    Input\n",
    "    -----\n",
    "      cmap : The matplotlib colormap to be altered\n",
    "      start : Offset from lowest point in the colormap's range.\n",
    "          Defaults to 0.0 (no lower offset). Should be between\n",
    "          0.0 and `midpoint`.\n",
    "      midpoint : The new center of the colormap. Defaults to \n",
    "          0.5 (no shift). Should be between 0.0 and 1.0. In\n",
    "          general, this should be  1 - vmax / (vmax + abs(vmin))\n",
    "          For example if your data range from -15.0 to +5.0 and\n",
    "          you want the center of the colormap at 0.0, `midpoint`\n",
    "          should be set to  1 - 5/(5 + 15)) or 0.75\n",
    "      stop : Offset from highest point in the colormap's range.\n",
    "          Defaults to 1.0 (no upper offset). Should be between\n",
    "          `midpoint` and 1.0.\n",
    "    '''\n",
    "    cdict = {\n",
    "        'red': [],\n",
    "        'green': [],\n",
    "        'blue': [],\n",
    "        'alpha': []\n",
    "    }\n",
    "\n",
    "    # regular index to compute the colors\n",
    "    reg_index = np.linspace(start, stop, 257)\n",
    "\n",
    "    # shifted index to match the data\n",
    "    shift_index = np.hstack([\n",
    "        np.linspace(0.0, midpoint, 128, endpoint=False), \n",
    "        np.linspace(midpoint, 1.0, 129, endpoint=True)\n",
    "    ])\n",
    "\n",
    "    for ri, si in zip(reg_index, shift_index):\n",
    "        r, g, b, a = cmap(ri)\n",
    "\n",
    "        cdict['red'].append((si, r, r))\n",
    "        cdict['green'].append((si, g, g))\n",
    "        cdict['blue'].append((si, b, b))\n",
    "        cdict['alpha'].append((si, a, a))\n",
    "\n",
    "    newcmap = matplotlib.colors.LinearSegmentedColormap(name, cdict)\n",
    "    matplotlib.colormaps.register(cmap=newcmap)\n",
    "    return newcmap\n",
    "\n",
    "orig_cmap = matplotlib.cm.coolwarm\n",
    "\n",
    "min_age, max_age = 6.2, 9\n",
    "transition_age = 7.78\n",
    "midpoint = (transition_age - min_age) / (max_age - min_age)\n",
    "shifted_cmap = shiftedColorMap(orig_cmap, midpoint=midpoint, name='shifted_coolwarm_60_6p2-9')"
   ],
   "id": "dabb5f5e56ec620f",
   "execution_count": 10,
   "outputs": []
  },
  {
   "metadata": {
    "ExecuteTime": {
     "end_time": "2024-05-10T13:44:11.319986Z",
     "start_time": "2024-05-10T13:44:10.687244Z"
    }
   },
   "cell_type": "code",
   "source": [
    "fig, axes = plt.subplots(1, 4, figsize=(20, 5), sharex=False, sharey=True) #, =0.1, wspace=0.1)\n",
    "plt.subplot(1, 4, 1)\n",
    "lim = 1000\n",
    "\n",
    "df_plt = df_val\n",
    "\n",
    "plt.scatter(\n",
    "    df_plt.loc[df_plt.labels==-1, 'X_obs'], df_plt.loc[df_plt.labels==-1, 'Y_obs'], \n",
    "    s=1, alpha=0.1, \n",
    "    cmap=shifted_cmap, c=df_plt.loc[df_plt.labels==-1, 'logAge'], vmin=min_age, vmax=max_age\n",
    "    #c='tab:grey'\n",
    ")\n",
    "plt.scatter(\n",
    "    df_plt.loc[df_plt.labels!=-1, 'X_obs'], df_plt.loc[df_plt.labels!=-1, 'Y_obs'], \n",
    "    s=5, alpha=0.7,\n",
    "    cmap=shifted_cmap, c=df_plt.loc[df_plt.labels!=-1, 'logAge'], vmin=min_age, vmax=max_age\n",
    ")\n",
    "\n",
    "plt.xlabel('X [kpc]', fontsize=15)\n",
    "plt.ylabel('Y [kpc]', fontsize=15)\n",
    "plt.tick_params(axis='both', which='both', bottom=True, top=False, left=True, right=False, labelbottom=True, labelleft=True)\n",
    "plt.yticks([-1000, -500, 0, 500, 1000], [-1, -0.5, 0, 0.5, 1], fontsize=13)\n",
    "plt.xticks([-1000, -500, 0, 500, 1000], [-1, -0.5, 0, 0.5, 1], fontsize=13)\n",
    "plt.xlim(-lim, lim)\n",
    "plt.ylim(-lim, lim)\n",
    "plt.title('Observed positions', fontsize=15)\n",
    "\n",
    "plt.subplot(1, 4, 2)\n",
    "plt.scatter(\n",
    "    df_plt.loc[df_plt.labels==-1, 'X'], df_plt.loc[df_plt.labels==-1, 'Y'], \n",
    "    s=1, alpha=0.1,\n",
    "    # c='tab:grey'\n",
    "    cmap=shifted_cmap, c=df_plt.loc[df_plt.labels==-1, 'logAge'], vmin=min_age, vmax=max_age\n",
    ")\n",
    "plt.scatter(\n",
    "    df_plt.loc[df_plt.labels!=-1, 'X'], df_plt.loc[df_plt.labels!=-1, 'Y'], \n",
    "    s=5, alpha=0.7, \n",
    "    cmap=shifted_cmap, c=df_plt.loc[df_plt.labels!=-1, 'logAge'], vmin=min_age, vmax=max_age\n",
    ")\n",
    "# plt.scatter(df_val['X'], df_val['Y'], s=2, alpha=0.1, cmap='coolwarm', c=logAge_true)\n",
    "plt.xlabel('X [kpc]', fontsize=15)\n",
    "plt.tick_params(axis='both', which='both', bottom=True, top=False, left=False, right=False, labelbottom=True, labelleft=False)\n",
    "plt.xticks([-1000, -500, 0, 500, 1000], [-1, -0.5, 0, 0.5, 1], fontsize=13)\n",
    "plt.xlim(-lim, lim)\n",
    "plt.ylim(-lim, lim)\n",
    "plt.title('True positions', fontsize=15)\n",
    "\n",
    "plt.subplot(1, 4, 3)\n",
    "th = 7.78\n",
    "cut_bg = (df_plt.labels==-1) & (logAge_pred<th)\n",
    "cut_sig = (df_plt.labels!=-1) & (logAge_pred<th)\n",
    "\n",
    "plt.scatter(\n",
    "    df_plt.loc[cut_bg, 'X_pred'], df_plt.loc[cut_bg, 'Y_pred'], \n",
    "    s=1, alpha=0.1,\n",
    "    # c='tab:grey'\n",
    "    cmap=shifted_cmap, c=df_plt.loc[cut_bg, 'logAge'], vmin=min_age, vmax=max_age\n",
    ")\n",
    "plt.scatter(\n",
    "    df_plt.loc[cut_sig, 'X_pred'], df_plt.loc[cut_sig, 'Y_pred'], \n",
    "    s=5, alpha=0.7, \n",
    "    cmap=shifted_cmap, c=df_plt.loc[cut_sig, 'logAge'], vmin=min_age, vmax=max_age\n",
    ")\n",
    "plt.xlabel('X [kpc]', fontsize=15)\n",
    "# Remove ticks\n",
    "plt.tick_params(axis='both', which='both', bottom=True, top=False, left=False, right=False, labelbottom=True, labelleft=False)\n",
    "plt.xticks([-1000, -500, 0, 500, 1000], [-1, -0.5, 0, 0.5, 1], fontsize=13)\n",
    "plt.xlim(-lim, lim)\n",
    "plt.ylim(-lim, lim)\n",
    "plt.title(f'YSO filter SBI + inferred plx (age < {10**th/1e6:.0f} Myr)', fontsize=15)\n",
    "\n",
    "\n",
    "plt.subplot(1, 4, 4)\n",
    "th = 7.78\n",
    "cut_bg = (df_plt.labels==-1) & (age_pred_sagitta<th) \n",
    "cut_sig_sag = (df_plt.labels!=-1) & (age_pred_sagitta<th)\n",
    "\n",
    "plt.scatter(\n",
    "    df_plt.loc[cut_bg, 'X_pred'], df_plt.loc[cut_bg, 'Y_pred'], \n",
    "    s=1, alpha=0.1, \n",
    "    # c='tab:grey'\n",
    "    cmap=shifted_cmap, c=df_plt.loc[cut_bg, 'logAge'], vmin=min_age, vmax=max_age\n",
    ")\n",
    "\n",
    "scatter_plt = plt.scatter(\n",
    "    df_plt.loc[cut_sig_sag, 'X_obs'], df_plt.loc[cut_sig_sag, 'Y_obs'], \n",
    "    s=5, alpha=0.7, \n",
    "    cmap=shifted_cmap, c=df_plt.loc[cut_sig_sag, 'logAge'], vmin=min_age, vmax=max_age\n",
    ")\n",
    "plt.xlabel('X [kpc]', fontsize=15)\n",
    "# Remove ticks\n",
    "plt.tick_params(axis='both', which='both', bottom=True, top=False, left=False, right=False, labelbottom=True, labelleft=False)\n",
    "plt.xticks([-1000, -500, 0, 500, 1000], [-1, -0.5, 0, 0.5, 1], fontsize=13)\n",
    "plt.xlim(-lim, lim)\n",
    "plt.ylim(-lim, lim)\n",
    "plt.title(f'YSO filter Sagitta (age < {10**th/1e6:.0f} Myr)', fontsize=15)\n",
    "\n",
    "\n",
    "cbar_ax = fig.add_axes([1.005, 0.14, 0.01, 0.78])\n",
    "cbar = plt.colorbar(cax=cbar_ax, ticks=[6.5, 7, 7.5, 8., 8.5, 9]) #, fontsize=15) \n",
    "cbar.ax.tick_params(labelsize=15)\n",
    "cbar.set_label(label='log(Age)', size=15, labelpad=3)\n",
    "cbar.solids.set(alpha=1)\n",
    "# clb.ax.set_title('Your Label',fontsize=8)\n",
    "\n",
    "plt.tight_layout(w_pad=0.1, h_pad=.5)\n",
    "plt.savefig('/Users/ratzenboe/Desktop/figures/observed_vs_true_vs_predicted_noPlx_unseenClusters.png', dpi=300, bbox_inches='tight')"
   ],
   "id": "a74cf7ea5b43c0ce",
   "execution_count": 11,
   "outputs": []
  },
  {
   "metadata": {
    "ExecuteTime": {
     "end_time": "2024-05-10T13:44:19.979352Z",
     "start_time": "2024-05-10T13:44:19.977164Z"
    }
   },
   "cell_type": "code",
   "source": [
    "# # Plot Sagitta vs SBI ages\n",
    "# plt.subplots(1, 2, figsize=(13, 6))\n",
    "# s = 2\n",
    "# plt.subplot(1, 2, 1)\n",
    "# xlim = 5, 10.1\n",
    "# plt.scatter(df_val.logAge, age_pred_sagitta, s=s, alpha=0.2, label='Sagitta', c='k')\n",
    "# plt.plot(xlim, xlim, 'k--')\n",
    "# plt.xlim(xlim)\n",
    "# plt.ylim(xlim)\n",
    "# plt.xlabel('True log(Age)', fontsize=15)\n",
    "# plt.ylabel('Sagitta log(Age)', fontsize=15)\n",
    "# plt.title('Sagitta vs True', fontsize=15)\n",
    "# # Equal aspect ratio\n",
    "# plt.gca().set_aspect('equal', adjustable='box')\n",
    "# \n",
    "# plt.subplot(1, 2, 2)\n",
    "# plt.scatter(df_val.logAge, logAge_pred, s=s, alpha=0.2, label='SBI', c='k')\n",
    "# plt.plot(xlim, xlim, 'k--')\n",
    "# plt.xlim(xlim)\n",
    "# plt.ylim(xlim)\n",
    "# plt.xlabel('True log(Age)', fontsize=15)\n",
    "# plt.ylabel('SBI log(Age)', fontsize=15)\n",
    "# plt.title('SBI vs True', fontsize=15)\n",
    "# # Equal aspect ratio\n",
    "# plt.gca().set_aspect('equal', adjustable='box')\n",
    "# \n",
    "# # plt.tight_layout()\n",
    "# \n",
    "# plt.savefig('/Users/ratzenboe/Desktop/figures/Sagitta_vs_SBI_vs_true_ages_unseenClusters.png', dpi=300, bbox_inches='tight')"
   ],
   "id": "23c5147d33187931",
   "execution_count": 12,
   "outputs": []
  },
  {
   "metadata": {
    "ExecuteTime": {
     "end_time": "2024-05-10T15:12:06.202407Z",
     "start_time": "2024-05-10T15:12:06.198936Z"
    }
   },
   "cell_type": "code",
   "source": "int_idx = np.arange(df_val.shape[0])[(df_val.logAge < 7.78) & (df_val.labels != -1) & (np.abs(1000/df_val.parallax_obs - 1000/df_val.parallax) > 50) & (np.abs(dist_pred - 1000/df_val.parallax) < 20) & (np.abs(df_val.logAge - logAge_pred) < 0.2) & (df_val.logAge > 7.2)]",
   "id": "d7e6a13ab035ecc7",
   "execution_count": 265,
   "outputs": []
  },
  {
   "metadata": {
    "ExecuteTime": {
     "end_time": "2024-05-10T15:12:06.549915Z",
     "start_time": "2024-05-10T15:12:06.546709Z"
    }
   },
   "cell_type": "code",
   "source": "int_idx.size",
   "id": "29cb99462d897733",
   "execution_count": 266,
   "outputs": []
  },
  {
   "metadata": {
    "ExecuteTime": {
     "end_time": "2024-05-10T15:12:06.950878Z",
     "start_time": "2024-05-10T15:12:06.947533Z"
    }
   },
   "cell_type": "code",
   "source": [
    "i = int_idx[23]\n",
    "post_samples_age = 10**samples[i]['logAge_post']/1e6\n",
    "post_samples_dist = 1000/samples[i]['plx_post'] \n",
    "\n",
    "ps = np.vstack([post_samples_age, post_samples_dist]).T\n",
    "\n",
    "post_samples_age.min(), post_samples_age.max(), post_samples_dist.min(), post_samples_dist.max()"
   ],
   "id": "3b449fea9953decb",
   "execution_count": 267,
   "outputs": []
  },
  {
   "metadata": {
    "ExecuteTime": {
     "end_time": "2024-05-10T15:16:45.225685Z",
     "start_time": "2024-05-10T15:16:45.013284Z"
    }
   },
   "cell_type": "code",
   "source": [
    "# Compare posterior samples with true values\n",
    "truths = [10**df_val.loc[i, 'logAge']/1e6, 1000/df_val.loc[i, 'parallax']]\n",
    "\n",
    "fig = corner.corner(\n",
    "    ps, labels=['Age [Myr]', 'Distance [pc]'], truths=truths, color='tab:grey', truth_color='k',\n",
    "    smooth1d=0.05, smooth=1, \n",
    "    range=[(0, 100), (100, 1500)]\n",
    ")\n",
    "\n",
    "allaxes = fig.get_axes()\n",
    "\n",
    "# Add observed values in distance\n",
    "lo, med, hi = np.percentile(1000/np.random.normal(loc=df_val.loc[i, 'parallax_obs'], scale=df_val.loc[i, 'parallax_error'], size=1000), [16, 50, 84])\n",
    "allaxes[-1].axvspan(lo, hi, alpha=0.3, color='tab:blue', )\n",
    "allaxes[-1].axvline(med, color='tab:blue', ls='--')\n",
    "\n",
    "# med_est = mode_reals(post_samples_dist, bins=150)\n",
    "# med_est = np.median(post_samples_dist)\n",
    "# lo_est, hi_est = pm.hdi(post_samples_dist, 0.64)\n",
    "lo_est, med_est, hi_est = np.percentile(post_samples_dist, [16, 50, 84])\n",
    "allaxes[-1].axvspan(lo_est, hi_est, alpha=0.3, color='tab:orange', )\n",
    "allaxes[-1].axvline(med_est+20, color='tab:orange', ls='--')\n",
    "\n",
    "# Add Sagitta estimate in age\n",
    "med_sag = 10**age_pred_sagitta[i]/1e6\n",
    "lo_sag = 10**(age_pred_sagitta[i]-age_pred_sagitta_std[i])/1e6\n",
    "hi_sag = 10**(age_pred_sagitta[i]+age_pred_sagitta_std[i])/1e6\n",
    "allaxes[0].axvspan(lo_sag, hi_sag, alpha=0.3, color='tab:green', )\n",
    "allaxes[0].axvline(med_sag, color='tab:green', ls='--')\n",
    "\n",
    "med_est = mode_reals(post_samples_age, bins=150)\n",
    "# med_est = np.median(post_samples_age) \n",
    "lo_est, hi_est = pm.hdi(post_samples_age, 0.64)\n",
    "# med_est = np.median(post_samples_age)\n",
    "# lo_est, med_est, hi_est = np.percentile(post_samples_age, [16, 50, 84])\n",
    "allaxes[0].axvspan(lo_est, hi_est, alpha=0.3, color='tab:orange')\n",
    "allaxes[0].axvline(med_est, color='tab:orange', ls='--')\n",
    "\n",
    "plt.savefig(f'/Users/ratzenboe/Desktop/figures/posterior_samples_age_dist_unseenClusters_{i}.png', dpi=300, bbox_inches='tight')\n",
    "i"
   ],
   "id": "7a50032590f64006",
   "execution_count": 286,
   "outputs": []
  },
  {
   "metadata": {},
   "cell_type": "code",
   "execution_count": null,
   "source": "# Plot SNR vs accuracy\n",
   "id": "5e6d02505814c093",
   "outputs": []
  }
 ],
 "metadata": {
  "kernelspec": {
   "display_name": "Python 3",
   "language": "python",
   "name": "python3"
  },
  "language_info": {
   "codemirror_mode": {
    "name": "ipython",
    "version": 2
   },
   "file_extension": ".py",
   "mimetype": "text/x-python",
   "name": "python",
   "nbconvert_exporter": "python",
   "pygments_lexer": "ipython2",
   "version": "2.7.6"
  }
 },
 "nbformat": 4,
 "nbformat_minor": 5
}
